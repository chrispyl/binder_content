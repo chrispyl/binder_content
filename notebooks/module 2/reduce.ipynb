{
 "cells": [
  {
   "cell_type": "markdown",
   "id": "15434800",
   "metadata": {},
   "source": [
    "# <u><p style=\"text-align: center;\">Reduce</p></u>\n",
    "\n",
    "### Contents of this notebook\n",
    "* How the reduce operation works \n",
    "* Reduce operations in Python"
   ]
  },
  {
   "cell_type": "markdown",
   "id": "d58af70a",
   "metadata": {},
   "source": [
    "### Background"
   ]
  },
  {
   "cell_type": "markdown",
   "id": "cbdf0ac5",
   "metadata": {},
   "source": [
    "In the previous notebook, we saw how to use the `map` operation to work elementwise with collections of data. `Map` is suitable for transforming each element of a collection <u>individually</u>, but it cannot be applied in cases where the required transformations involve more than one element of the same collection. For the latter cases, we have a technique called `reduce`. `Reduce` is used to combine all the elements of a collection into a single result. The function `reduce` takes two elements each time, applies the function that was given as argument, and carries over the result. "
   ]
  },
  {
   "cell_type": "markdown",
   "id": "ee1524ad",
   "metadata": {},
   "source": [
    "#### <u>A requirement of `reduce`</u>"
   ]
  },
  {
   "cell_type": "markdown",
   "id": "603be27d",
   "metadata": {},
   "source": [
    "Similarly to `map`, `reduce` operations can be distributed to multiple cores/machines in order to perform calculations faster. To ensure that the results are coherent between repeated evaluations, the operation implemented by the function that is used by `reduce` should be **associative**. Associative operations are those where the result will always be the same, no matter how we group the elements of the collection and apply the function. Below are some associative operations (suitable for reduce):"
   ]
  },
  {
   "cell_type": "markdown",
   "id": "6b6a81d5",
   "metadata": {},
   "source": [
    "$$ (2 + 3) + 4 = 2 + (3 + 4) $$\n",
    "$$ (10 \\times 2) \\times 5 = 10 \\times (2 \\times 5) $$"
   ]
  },
  {
   "cell_type": "markdown",
   "id": "23544def",
   "metadata": {},
   "source": [
    "And non-associative opetations (not suitable for reduce):"
   ]
  },
  {
   "cell_type": "markdown",
   "id": "669131a3",
   "metadata": {},
   "source": [
    "$$ (2 - 3) + 4 \\neq 2 - (3 + 4) $$\n",
    "$$ (10 \\div 2) \\div 5 \\neq 10 \\div (2 \\div 5) $$"
   ]
  },
  {
   "cell_type": "markdown",
   "id": "1658ca62",
   "metadata": {},
   "source": [
    "### Code examples"
   ]
  },
  {
   "cell_type": "markdown",
   "id": "1e51127a",
   "metadata": {},
   "source": [
    "In this section we are going to see examples of how to apply the `reduce` function: \n",
    "\n",
    "***Example 1:*** shows how to use `reduce` to find the highest temperature in a list.   \n",
    "***Example 2:*** demonstrates how `reduce` can be used to compare latitude/longitude coordinates.   \n",
    "***Example 3:*** applies `reduce` to calculate the average weight of chickens in a barn.  "
   ]
  },
  {
   "cell_type": "markdown",
   "id": "da0f43fc",
   "metadata": {},
   "source": [
    "The syntax of `reduce` is:"
   ]
  },
  {
   "cell_type": "raw",
   "id": "12653f73",
   "metadata": {},
   "source": [
    "reduce(function, collection)"
   ]
  },
  {
   "cell_type": "markdown",
   "id": "5a9eb586",
   "metadata": {},
   "source": [
    "#### Example 1: Determine maximum temperature in a list\n",
    "Let's say that we want to find the highest daily temperature in the town of Wageningen, the Netherlands in a week during January. We have data that contain the average temperature for all the days in that week:"
   ]
  },
  {
   "cell_type": "code",
   "execution_count": null,
   "id": "50ef7c0e",
   "metadata": {},
   "outputs": [],
   "source": [
    "temperatures = [10, 7, 11, 13, 9, 10, 8]    # in Celsius"
   ]
  },
  {
   "cell_type": "markdown",
   "id": "2c73960d",
   "metadata": {},
   "source": [
    "We need to find the maximum of this list. This can be achieved with a reduce operation over `temperatures`. We pass two arguments on to the `reduce` function: the function (`max` in our case) and the data (our list `temperatures`). The function `reduce` finds what we need: one single result, which is the maximum temperature in the list."
   ]
  },
  {
   "cell_type": "code",
   "execution_count": null,
   "id": "00dcf170",
   "metadata": {},
   "outputs": [],
   "source": [
    "from functools import reduce\n",
    "\n",
    "result = reduce(max, temperatures)\n",
    "print(result)"
   ]
  },
  {
   "cell_type": "markdown",
   "id": "faae5a09",
   "metadata": {},
   "source": [
    "#### Example 2: Find southernmost location\n",
    "In many agricultural applications locations are represented with coordinates based on [Geographic Coordinate Systems](https://en.wikipedia.org/wiki/Geographic_coordinate_system). Those coordinates are usually *latitude* (north/south) and *longitude* (east/west). We can use those coordinates to find the southernmost point from location data that contain the latitude and longitude of each location. First we have to define a function that compares two pairs of coordinates. We could write this function in a way to compare all the coordinates in the same function, but this would probably be inefficient. Instead, we write this function to compare pairs of coordinates and then supply to reduce. In this way, a big data application would be able to divide the work over multiple computers and combine the results later."
   ]
  },
  {
   "cell_type": "markdown",
   "id": "5164d346",
   "metadata": {},
   "source": [
    "As we see below, our function `get_southern_pair` takes as arguments two locations. Each location is a pair, because it is a pair of coordinates of the form [latitude, longitude]. It doesn't matter which pair is the first argument and which pair is the second argument: the function is *associative* so any pair is valid. The southernmost location is the one with the lowest latitude. The function takes the first coordinate from each pair (pair[0], which is the latitude), and returns the location (the pair) which is more southern:"
   ]
  },
  {
   "cell_type": "code",
   "execution_count": null,
   "id": "a2873245",
   "metadata": {},
   "outputs": [],
   "source": [
    "def get_southern_pair(pair1, pair2):\n",
    "    \n",
    "    if pair1[0] < pair2[0]:\n",
    "        southern_pair = pair1\n",
    "    else:\n",
    "        southern_pair = pair2\n",
    "    \n",
    "    return southern_pair \n",
    "\n",
    "coordinate_1 = [51.969187, 5.665395]\n",
    "coordinate_2 = [5.614818, -0.205874]\n",
    "\n",
    "southern_pair = get_southern_pair(coordinate_1, coordinate_2)\n",
    "\n",
    "print(southern_pair)"
   ]
  },
  {
   "cell_type": "markdown",
   "id": "61c70b83",
   "metadata": {},
   "source": [
    "Now we can use `reduce` to apply our function `get_southern_pair` to our data which is a list of coordinates:"
   ]
  },
  {
   "cell_type": "code",
   "execution_count": null,
   "id": "a4d2ede2",
   "metadata": {},
   "outputs": [],
   "source": [
    "# Coordinates are formatted as [latitude, longitude]\n",
    "# and correspond to cities of Wageningen (the Netherlands), Montevideo (Uruguay),\n",
    "# Ho Chi Minh (Vietnam), Accra (Ghana), and Thessaloniki (Greece)\n",
    "coordinates = [[51.969187, 5.665395],\n",
    "              [-34.901112, -56.164532],\n",
    "              [10.762622, 106.660172],\n",
    "              [5.614818, -0.205874],\n",
    "              [40.629269, 22.947412]]\n",
    "\n",
    "southernmost_pair = reduce(get_southern_pair, coordinates)\n",
    "print(southernmost_pair)"
   ]
  },
  {
   "cell_type": "markdown",
   "id": "14b1bacc",
   "metadata": {},
   "source": [
    "And as we see the coordinates of Montevideo are printed which is indeed the southermost city from those included in our list."
   ]
  },
  {
   "cell_type": "markdown",
   "id": "8b6686fa",
   "metadata": {},
   "source": [
    "#### Example 3: Average weight of chickens\n",
    "In a similar way, we could calculate the average weight of broiler chickens in a barn. We first calculate the sum of the chicken weights. We do this by using the `add` function. Then we divide the sum by the number of chickens that we have (the length of the weights collection). For finding the length of the collection we use the `len` function."
   ]
  },
  {
   "cell_type": "code",
   "execution_count": null,
   "id": "db06047f",
   "metadata": {},
   "outputs": [],
   "source": [
    "def add(number_1, number_2):\n",
    "    return number_1 + number_2\n",
    "\n",
    "chicken_weights = [2.1, 1.9, 2.8, 2.2, 2.5, 2.3, 1.9] #broilers, kg\n",
    "\n",
    "total_sum = reduce(add, chicken_weights)\n",
    "average_weight = total_sum / len(chicken_weights)\n",
    "\n",
    "print(average_weight)"
   ]
  },
  {
   "cell_type": "markdown",
   "id": "1fa784ad",
   "metadata": {},
   "source": [
    "<span style=\"display:none\" id=\"question1\">W3sicXVlc3Rpb24iOiAiV2hpY2ggb2YgdGhlIGZvbGxvd2luZyBzdGF0ZW1lbnRzIGFyZSB0cnVlPyIsICJ0eXBlIjogIm1hbnlfY2hvaWNlIiwgImFuc3dlcnMiOiBbeyJjb2RlIjogIidSZWR1Y2UnIGFuZCAnbWFwJyBjYW4gIGJlIHVzZWQgaW50ZXJjaGFuZ2VhYmx5IiwgImNvcnJlY3QiOiBmYWxzZSwgImZlZWRiYWNrIjogIk1hcCBpcyBub3Qgc3VpdGFibGUgZm9yIG9wZXJhdGlvbnMgaW52b2x2aW5nIG11bHRpcGxlIGVsZW1lbnRzIG9mIGEgY29sbGVjdGlvbiJ9LCB7ImNvZGUiOiAiVGhlIGZ1bmN0aW9uIHByb3ZpZGVkIHRvICdyZWR1Y2UnIHNob3VsZCBiZSBhc3NvLWNpYXRpdmUiLCAiY29ycmVjdCI6IHRydWV9LCB7ImNvZGUiOiAiJ1JlZHVjZScgYXBwbGllcyBhIGZ1bmMtdGlvbiB0byBlYWNoIGluZGl2aWR1YWwgZWxlbWVudCBpbiBhIGNvbGxlY3Rpb24iLCAiY29ycmVjdCI6IGZhbHNlLCAiZmVlZGJhY2siOiAiSXQgZG9lcyBpdCBpbiBwYWlycyBvZiBlbGVtZW50cyJ9LCB7ImNvZGUiOiAiJ1JlZHVjZScgYXBwbGllcyBhIGZ1bmMtdGlvbiB0byBhIHBhaXIgb2YgZWxlLSAgIG1lbnRzLCB0YWtlcyB0aGUgcmVzdWx0IGFuZCBwYXNzZXMgaXQgdG8gdGhlICAgIGZ1bmN0aW9uIHdpdGggdGhlIG5leHQgIGVsZW1lbnQgb2YgdGhlICAgICAgICAgIGNvbGxlY3Rpb24iLCAiY29ycmVjdCI6IHRydWV9XX1d</span>"
   ]
  },
  {
   "cell_type": "markdown",
   "id": "a34b4ff2",
   "metadata": {},
   "source": [
    "### Quiz"
   ]
  },
  {
   "cell_type": "markdown",
   "id": "847f2f5c",
   "metadata": {},
   "source": [
    "#### Q1:"
   ]
  },
  {
   "cell_type": "code",
   "execution_count": null,
   "id": "f1dd15d6",
   "metadata": {},
   "outputs": [],
   "source": [
    "from jupyterquiz import display_quiz\n",
    "\n",
    "display_quiz(\"#question1\")"
   ]
  },
  {
   "cell_type": "markdown",
   "id": "75ee8715",
   "metadata": {},
   "source": [
    "### More advanced examples"
   ]
  },
  {
   "cell_type": "markdown",
   "id": "a481a01a",
   "metadata": {},
   "source": [
    "In this section we are going to see an example with a more advanced version of `reduce`. These examples are not essential to understand the rest of the course. Although, we would recommend you try them as they will help you deepen your knowledge on this topic."
   ]
  },
  {
   "cell_type": "markdown",
   "id": "cee3f1fe",
   "metadata": {},
   "source": [
    "#### Example A1:\n",
    "Until now we saw that `reduce` can be supplied with a function and a data collection. There is also a third optional parameter which acts as an initializer for the reduce operation. \n",
    "\n",
    "Without supplying a third argument, `reduce` will take the first two elements of the data collection to perform its first operation. On the other hand, if a third argument is supplied, `reduce` will use the third argument as the first argument of the supplied function, and the first element of the data collection as the second argument of the supplied function."
   ]
  },
  {
   "cell_type": "markdown",
   "id": "10161f65",
   "metadata": {},
   "source": [
    "Below is an example where we use the third parameter of `reduce` as an offset for the addition operation:"
   ]
  },
  {
   "cell_type": "code",
   "execution_count": null,
   "id": "d7595237",
   "metadata": {},
   "outputs": [],
   "source": [
    "#Here we use the `add` function of example 3\n",
    "print(reduce(add, [1,2,3,4,5])) #two arguments\n",
    "print(reduce(add, [1,2,3,4,5], 100)) #three arguments"
   ]
  },
  {
   "cell_type": "markdown",
   "id": "cdd1a471",
   "metadata": {},
   "source": [
    "The third parameter can also be a data structure (e.g. list) which could be used as a container for our results:"
   ]
  },
  {
   "cell_type": "code",
   "execution_count": null,
   "id": "d374da25",
   "metadata": {},
   "outputs": [],
   "source": [
    "result = reduce(lambda container, value: container + [value], [6,7,8,9,10], [1,2,3,4,5])\n",
    "print(result)"
   ]
  },
  {
   "cell_type": "markdown",
   "id": "71dbefdd",
   "metadata": {},
   "source": [
    "Here the list `[1,2,3,4,5]` was used as a container and then one by one the elements of the list `[6,7,8,9,10]` were added to it."
   ]
  },
  {
   "cell_type": "markdown",
   "id": "457694a1",
   "metadata": {},
   "source": [
    "### Further reading\n",
    "[The reduce function](https://en.wikipedia.org/wiki/Fold_(higher-order_function))  \n",
    "[Reduce in Python](https://docs.python.org/3/library/functools.html#functools.reduce)"
   ]
  }
 ],
 "metadata": {
  "kernelspec": {
   "display_name": "Python 3",
   "language": "python",
   "name": "python3"
  },
  "language_info": {
   "codemirror_mode": {
    "name": "ipython",
    "version": 3
   },
   "file_extension": ".py",
   "mimetype": "text/x-python",
   "name": "python",
   "nbconvert_exporter": "python",
   "pygments_lexer": "ipython3",
   "version": "3.8.8"
  }
 },
 "nbformat": 4,
 "nbformat_minor": 5
}
