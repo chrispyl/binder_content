{
 "cells": [
  {
   "cell_type": "markdown",
   "id": "15434800",
   "metadata": {},
   "source": [
    "# <u><p style=\"text-align: center;\">Reduce</p></u>\n",
    "\n",
    "### Learning goals  \n",
    "Students will be able to:  \n",
    "*\tExplain how the reduce operation works \n",
    "*\tRecognize reduce operations in python"
   ]
  },
  {
   "cell_type": "markdown",
   "id": "d58af70a",
   "metadata": {},
   "source": [
    "### Background"
   ]
  },
  {
   "cell_type": "markdown",
   "id": "cbdf0ac5",
   "metadata": {},
   "source": [
    "In the previous notebook, we saw how to use the `map` operation to work elementwise with collections of data. `Map` is suitable for transforming each element in a collection <u>individually</u>, but cannot be applied in cases where the required transformations involve more than one element of the same collection. For the latter cases we have a technique called `reduce`. `Reduce` is used to combine all the elements of a collection into a single result. `Reduce` takes two elements each time, applies a function, and carries over the result."
   ]
  },
  {
   "cell_type": "markdown",
   "id": "603be27d",
   "metadata": {},
   "source": [
    "Similarly to `map`, `reduce` operations can be distributed to multiple cores/machines in order to perform calculations faster. To ensure that the results are coherent between repeated evaluations, the operation implemented by the function that is used by `reduce` should be **associative**. Associative operations are those where no matter how we group the elements of the collection and apply the function, the result will always be the same. Below are some associative operations (suitable for reduce):"
   ]
  },
  {
   "cell_type": "markdown",
   "id": "6b6a81d5",
   "metadata": {},
   "source": [
    "$$ (2 + 3) + 4 = 2 + (3 + 4) $$\n",
    "$$ (10 \\times 2) \\times 5 = 10 \\times (2 \\times 5) $$"
   ]
  },
  {
   "cell_type": "markdown",
   "id": "23544def",
   "metadata": {},
   "source": [
    "And non-associative opetations (not suitable for reduce):"
   ]
  },
  {
   "cell_type": "markdown",
   "id": "669131a3",
   "metadata": {},
   "source": [
    "$$ (2 - 3) + 4 \\neq 2 - (3 + 4) $$\n",
    "$$ (10 \\div 2) \\div 5 \\neq 10 \\div (2 \\div 5) $$"
   ]
  },
  {
   "cell_type": "markdown",
   "id": "1658ca62",
   "metadata": {},
   "source": [
    "### Code examples"
   ]
  },
  {
   "cell_type": "markdown",
   "id": "da0f43fc",
   "metadata": {},
   "source": [
    "The syntax of `reduce` is:"
   ]
  },
  {
   "cell_type": "raw",
   "id": "12653f73",
   "metadata": {},
   "source": [
    "reduce(function, collection)"
   ]
  },
  {
   "cell_type": "markdown",
   "id": "5a9eb586",
   "metadata": {},
   "source": [
    "#### Example 1:\n",
    "Let's say that we want to find the highest daily temperature in the town of Wageningen. We could do that by first defining our average daily temperatures:"
   ]
  },
  {
   "cell_type": "code",
   "execution_count": null,
   "id": "50ef7c0e",
   "metadata": {},
   "outputs": [],
   "source": [
    "temperatures = [10, 7, 11, 13, 9, 10, 8] #in Celsius"
   ]
  },
  {
   "cell_type": "markdown",
   "id": "2c73960d",
   "metadata": {},
   "source": [
    "and then performing a reduce operation over `temperatures`:"
   ]
  },
  {
   "cell_type": "code",
   "execution_count": null,
   "id": "00dcf170",
   "metadata": {},
   "outputs": [],
   "source": [
    "from functools import reduce\n",
    "\n",
    "result = reduce(max, [10,7,11,13,9])\n",
    "print(result)"
   ]
  },
  {
   "cell_type": "markdown",
   "id": "faae5a09",
   "metadata": {},
   "source": [
    "#### Example 2:\n",
    "In a similar manner we can find the southernmost point from pairs that contain the latitude and longitude of a location. "
   ]
  },
  {
   "cell_type": "markdown",
   "id": "5164d346",
   "metadata": {},
   "source": [
    "The function `get_southern_pair` takes two coordinates of the form [latitude, longitude], compares the latitudes and returns the coordinate which is more south:"
   ]
  },
  {
   "cell_type": "code",
   "execution_count": null,
   "id": "a2873245",
   "metadata": {},
   "outputs": [],
   "source": [
    "def get_southern_pair(pair1, pair2):\n",
    "    \n",
    "    if pair1[0] < pair2[0]:\n",
    "        southern_pair = pair1\n",
    "    else:\n",
    "        southern_pair = pair2\n",
    "    \n",
    "    return southern_pair \n",
    "\n",
    "coordinate_1 = [35.632291, -293.326864]\n",
    "coordinate_2 = [50.869759, 7.869558]\n",
    "\n",
    "southern_pair = get_southern_pair(coordinate_1, coordinate_2)\n",
    "\n",
    "print(southern_pair)"
   ]
  },
  {
   "cell_type": "markdown",
   "id": "61c70b83",
   "metadata": {},
   "source": [
    "And using `reduce` to apply this comparison to a list of coordinates:"
   ]
  },
  {
   "cell_type": "code",
   "execution_count": null,
   "id": "a4d2ede2",
   "metadata": {},
   "outputs": [],
   "source": [
    "#coordinates are formatted as (latitude, longitude)\n",
    "coordinates = [[62.235184, -144.026314],\n",
    "              [35.632291, -293.326864],\n",
    "              [50.869759, 7.869558],\n",
    "              [35.632291, -249.642216],\n",
    "              [63.728073, 98.231107]]\n",
    "\n",
    "southernmost_pair = reduce(get_southern_pair, coordinates)\n",
    "print(southernmost_pair)"
   ]
  },
  {
   "cell_type": "markdown",
   "id": "8b6686fa",
   "metadata": {},
   "source": [
    "#### Example 3:\n",
    "In a similar way, we could calculate the average weight of broiler chickens in a barn. We first calculate the sum of the broiler weights. Then, we divide this sum by the number of weights we have (the length of the weights collection):"
   ]
  },
  {
   "cell_type": "code",
   "execution_count": null,
   "id": "db06047f",
   "metadata": {},
   "outputs": [],
   "source": [
    "def add(number_1, number_2):\n",
    "    return number_1 + number_2\n",
    "\n",
    "chicken_weights = [2.1, 1.9, 2.8, 2.2, 2.5, 2.3, 1.9] #broilers, kg\n",
    "\n",
    "reduce(add, chicken_weights) / len(chicken_weights)"
   ]
  },
  {
   "cell_type": "markdown",
   "id": "1fa784ad",
   "metadata": {},
   "source": [
    "<span style=\"display:none\" id=\"question1\">W3sicXVlc3Rpb24iOiAiV2hpY2ggb2YgdGhlIGZvbGxvd2luZyBzdGF0ZW1lbnRzIGFyZSB0cnVlPyIsICJ0eXBlIjogIm1hbnlfY2hvaWNlIiwgImFuc3dlcnMiOiBbeyJjb2RlIjogIidSZWR1Y2UnIGFuZCAnbWFwJyBjYW4gIGJlIHVzZWQgaW50ZXJjaGFuZ2VhYmx5IiwgImNvcnJlY3QiOiBmYWxzZSwgImZlZWRiYWNrIjogIk1hcCBpcyBub3Qgc3VpdGFibGUgZm9yIG9wZXJhdGlvbnMgaW52b2x2aW5nIG11bHRpcGxlIGVsZW1lbnRzIG9mIGEgY29sbGVjdGlvbiJ9LCB7ImNvZGUiOiAiVGhlIGZ1bmN0aW9uIHByb3ZpZGVkIHRvICdyZWR1Y2UnIHNob3VsZCBiZSBhc3NvLWNpYXRpdmUiLCAiY29ycmVjdCI6IHRydWV9LCB7ImNvZGUiOiAiJ1JlZHVjZScgYXBwbGllcyBhIGZ1bmMtdGlvbiB0byBlYWNoIGluZGl2aWR1YWwgZWxlbWVudCBpbiBhIGNvbGxlY3Rpb24iLCAiY29ycmVjdCI6IGZhbHNlLCAiZmVlZGJhY2siOiAiSXQgZG9lcyBpdCBpbiBwYWlycyBvZiBlbGVtZW50cyJ9LCB7ImNvZGUiOiAiJ1JlZHVjZScgYXBwbGllcyBhIGZ1bmMtdGlvbiB0byBhIHBhaXIgb2YgZWxlLSAgIG1lbnRzLCB0YWtlcyB0aGUgcmVzdWx0IGFuZCBwYXNzZXMgaXQgdG8gdGhlICAgIGZ1bmN0aW9uIHdpdGggdGhlIG5leHQgIGVsZW1lbnQgb2YgdGhlICAgICAgICAgIGNvbGxlY3Rpb24iLCAiY29ycmVjdCI6IHRydWV9XX1d</span>"
   ]
  },
  {
   "cell_type": "markdown",
   "id": "a34b4ff2",
   "metadata": {},
   "source": [
    "### Quiz"
   ]
  },
  {
   "cell_type": "markdown",
   "id": "847f2f5c",
   "metadata": {},
   "source": [
    "#### Q1:"
   ]
  },
  {
   "cell_type": "code",
   "execution_count": null,
   "id": "f1dd15d6",
   "metadata": {},
   "outputs": [],
   "source": [
    "from jupyterquiz import display_quiz\n",
    "\n",
    "display_quiz(\"#question1\")"
   ]
  },
  {
   "cell_type": "markdown",
   "id": "75ee8715",
   "metadata": {},
   "source": [
    "### More advanced examples"
   ]
  },
  {
   "cell_type": "markdown",
   "id": "cee3f1fe",
   "metadata": {},
   "source": [
    "#### Example A1:\n",
    "Until now we saw that `reduce` can be supplied with a function and a data collection. There is also a third optional parameter which acts as an initializer for the reduce operation."
   ]
  },
  {
   "cell_type": "markdown",
   "id": "10161f65",
   "metadata": {},
   "source": [
    "This third parameter can be a value which could be used as an offset:"
   ]
  },
  {
   "cell_type": "code",
   "execution_count": null,
   "id": "d7595237",
   "metadata": {},
   "outputs": [],
   "source": [
    "#Here we use the `add` function of example 3\n",
    "print(reduce(add, [1,2,3,4,5])) #two arguments\n",
    "print(reduce(add, [1,2,3,4,5], 100)) #three arguments"
   ]
  },
  {
   "cell_type": "markdown",
   "id": "cdd1a471",
   "metadata": {},
   "source": [
    "or a data structure (e.g. list) which could be used as a container:"
   ]
  },
  {
   "cell_type": "code",
   "execution_count": null,
   "id": "d374da25",
   "metadata": {},
   "outputs": [],
   "source": [
    "result = reduce(lambda container, value: container + [value], [6,7,8,9,10], [1,2,3,4,5])\n",
    "print(result)"
   ]
  },
  {
   "cell_type": "markdown",
   "id": "71dbefdd",
   "metadata": {},
   "source": [
    "Here the list `[1,2,3,4,5]` was used as a container and then one by one the elements of the list `[6,7,8,9,10]` were added to it."
   ]
  }
 ],
 "metadata": {
  "kernelspec": {
   "display_name": "Python 3",
   "language": "python",
   "name": "python3"
  },
  "language_info": {
   "codemirror_mode": {
    "name": "ipython",
    "version": 3
   },
   "file_extension": ".py",
   "mimetype": "text/x-python",
   "name": "python",
   "nbconvert_exporter": "python",
   "pygments_lexer": "ipython3",
   "version": "3.8.8"
  }
 },
 "nbformat": 4,
 "nbformat_minor": 5
}
