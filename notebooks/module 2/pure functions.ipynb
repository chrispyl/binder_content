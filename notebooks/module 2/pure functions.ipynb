{
 "cells": [
  {
   "cell_type": "markdown",
   "id": "9a725c2b",
   "metadata": {},
   "source": [
    "# <u><p style=\"text-align: center;\">Pure functions</p></u>\n",
    "\n",
    "### Learning goals  \n",
    "Students will be able to:  \n",
    "* Explain what a pure function is  \n",
    "* Distinguish pure functions from non-pure functions"
   ]
  },
  {
   "cell_type": "markdown",
   "id": "4eb644ee",
   "metadata": {},
   "source": [
    "### Background\n",
    "\n",
    "We have already seen that there are ‘packets’ of code, called functions, which receive inputs and produce outputs. Functions can be used to calculate formulas, write to files, interact with users, etc."
   ]
  },
  {
   "cell_type": "markdown",
   "id": "f239b04c",
   "metadata": {},
   "source": [
    "#### <u>Deterministic functions</u>\n",
    "Functions have properties that characterize their operation. When a function produces the <u>same outputs</u> when supplied with the <u>same inputs</u>, this function is called ***deterministic*** (the result can be determined just from the input)."
   ]
  },
  {
   "cell_type": "markdown",
   "id": "135f5148",
   "metadata": {},
   "source": [
    "#### <u>Side-effecting functions</u>\n",
    "Continuing to another property, when a function <u>changes</u> a part of a program <u>outside of the function</u> itself, we say that this function has ***side-effects*** (affecting its environment)."
   ]
  },
  {
   "cell_type": "markdown",
   "id": "112aac5f",
   "metadata": {},
   "source": [
    "#### <u>Pure functions</u>\n",
    "The deterministic and side effecting properties are important because they let us reason about our programs. Functions that are deterministic and have no side-effects are called **pure**. The use of pure functions is helpful in ensuring the correctness of our programs."
   ]
  },
  {
   "cell_type": "markdown",
   "id": "92123670",
   "metadata": {},
   "source": [
    "### Code examples"
   ]
  },
  {
   "cell_type": "markdown",
   "id": "8b6bfdf8",
   "metadata": {},
   "source": [
    "In this section we are going to see functions with the properties described above. "
   ]
  },
  {
   "cell_type": "markdown",
   "id": "681bfc29",
   "metadata": {},
   "source": [
    "#### Example 1:\n",
    "Below we have a function named `randint` which returns a **random** integer in the range [1, 10]. Try running the following cells multiple times and notice the outputs: "
   ]
  },
  {
   "cell_type": "code",
   "execution_count": null,
   "id": "fb4681cf",
   "metadata": {},
   "outputs": [],
   "source": [
    "from random import randint\n",
    "\n",
    "print(randint(1, 10))"
   ]
  },
  {
   "cell_type": "code",
   "execution_count": null,
   "id": "93f9eb72",
   "metadata": {},
   "outputs": [],
   "source": [
    "print(randint(1, 10))"
   ]
  },
  {
   "cell_type": "code",
   "execution_count": null,
   "id": "f5df8975",
   "metadata": {},
   "outputs": [],
   "source": [
    "print(randint(1, 10))"
   ]
  },
  {
   "cell_type": "markdown",
   "id": "cd20b89e",
   "metadata": {},
   "source": [
    "The output of `randint` changes on each consecutive run even without us changing its inputs. Such functions are called non-deterministic."
   ]
  },
  {
   "cell_type": "markdown",
   "id": "da4bc9a6",
   "metadata": {},
   "source": [
    "#### Example 2:\n",
    "Python functions <u>return values</u> which can be used to <u>change the environment</u> of our program. These values can be assigned to variables, be printed, saved to files and more. Below, `max` is used to find the maximum of two numbers, and assign it to a variable:"
   ]
  },
  {
   "cell_type": "code",
   "execution_count": null,
   "id": "28a010d4",
   "metadata": {},
   "outputs": [],
   "source": [
    "x=5\n",
    "print('x before assignment:', x)\n",
    "x=max(0,3)\n",
    "print('x after assignment:', x)"
   ]
  },
  {
   "cell_type": "markdown",
   "id": "ed984a5e",
   "metadata": {},
   "source": [
    "`max` itself cannot change its environment since it has no side-effects. We need to do something with the value it returns (print it, assign it), otherwise it will be lost."
   ]
  },
  {
   "cell_type": "markdown",
   "id": "f61e27fe",
   "metadata": {},
   "source": [
    "However, there are functions which manage to change the environment of a program without depending on returning values. For instance, `append` is such a function. In the following example we use `append` to put numbers into a list named `number_list`. Notice the output of `append`:"
   ]
  },
  {
   "cell_type": "code",
   "execution_count": null,
   "id": "0e43715b",
   "metadata": {},
   "outputs": [],
   "source": [
    "number_list = []\n",
    "\n",
    "append_return_value = number_list.append(1)\n",
    "print('\"append\" return value:', append_return_value) \n",
    "print('number_list:', number_list)"
   ]
  },
  {
   "cell_type": "markdown",
   "id": "87c8bc2e",
   "metadata": {},
   "source": [
    "We can keep calling append `number_list` and its return value will be the same:"
   ]
  },
  {
   "cell_type": "code",
   "execution_count": null,
   "id": "c1874f65",
   "metadata": {},
   "outputs": [],
   "source": [
    "append_return_value = number_list.append(2)\n",
    "print('\"append\" return value:', append_return_value) \n",
    "print('number_list:', number_list)"
   ]
  },
  {
   "cell_type": "markdown",
   "id": "eca2f5d0",
   "metadata": {},
   "source": [
    "Notice that `append` always returns *None* and still achieves to alter `number_list` without assignment. This is called a side-effect. It does operations 'behind the scenes' to change the environment of our program."
   ]
  },
  {
   "cell_type": "markdown",
   "id": "1172db43",
   "metadata": {},
   "source": [
    "#### Example 3:\n",
    "Another case of a side-effecting function is `sort`, which orders the elements of a list:"
   ]
  },
  {
   "cell_type": "code",
   "execution_count": null,
   "id": "9498ba19",
   "metadata": {},
   "outputs": [],
   "source": [
    "number_list = [5,4,1,0,3,2]\n",
    "\n",
    "print(number_list.sort())\n",
    "print(number_list)"
   ]
  },
  {
   "cell_type": "markdown",
   "id": "9d273173",
   "metadata": {},
   "source": [
    "Similarly to `append`, `sort` changes the elements in `number_list` without any explicit assignment, so it is a function with a side-effect."
   ]
  },
  {
   "cell_type": "markdown",
   "id": "8ea0ba46",
   "metadata": {},
   "source": [
    "#### Example 4:\n",
    "Functions like `max`, which we saw in example 3, are pure since their output depends solely on the input. Other examples of pure functions are:"
   ]
  },
  {
   "cell_type": "code",
   "execution_count": null,
   "id": "433d06b0",
   "metadata": {},
   "outputs": [],
   "source": [
    "#'abs' which returns the absolute value of a number\n",
    "print(\"abs:\", abs(-5))\n",
    "\n",
    "#'pow' which returns the power of a number\n",
    "print(\"pow:\", pow(2,3))\n",
    "\n",
    "#'str' which can return the string representation of a number\n",
    "print(\"str:\", str(12))\n",
    "\n",
    "#'round' which rounds a number to its nearest integer\n",
    "print(\"round:\", round(12.51))"
   ]
  },
  {
   "cell_type": "markdown",
   "id": "1630abe7",
   "metadata": {},
   "source": [
    "<span style=\"display:none\" id=\"question1\">W3sicXVlc3Rpb24iOiAiV2hpY2ggb2YgdGhlIGZvbGxvd2luZyBmdW5jdGlvbnMgYXJlIHB1cmU/IiwgInR5cGUiOiAibWFueV9jaG9pY2UiLCAiYW5zd2VycyI6IFt7ImNvZGUiOiAiYXBwZW5kIiwgImNvcnJlY3QiOiBmYWxzZSwgImZlZWRiYWNrIjogIidhcHBlbmQnIGlzIHNpZGUtZWZmZWN0aW5nIn0sIHsiY29kZSI6ICJtYXgiLCAiY29ycmVjdCI6IHRydWV9LCB7ImNvZGUiOiAibWluIiwgImNvcnJlY3QiOiB0cnVlfSwgeyJjb2RlIjogInJhbmRpbnQiLCAiY29ycmVjdCI6IGZhbHNlLCAiZmVlZGJhY2siOiAiJ3JhbmRpbnQnIGlzIG5vdCBkZXRlcm1pbmlzdGljIn1dfV0=</span>\n",
    "\n",
    "<span style=\"display:none\" id=\"question2\">W3sicXVlc3Rpb24iOiAiV2hpY2ggb2YgdGhlIGZvbGxvd2luZyBzdGF0ZW1lbnRzIGFyZSB0cnVlPyIsICJ0eXBlIjogIm1hbnlfY2hvaWNlIiwgImFuc3dlcnMiOiBbeyJjb2RlIjogIkRldGVybWluaXN0aWMgZnVuY3Rpb25zIGFyZSBwdXJlIiwgImNvcnJlY3QiOiBmYWxzZSwgImZlZWRiYWNrIjogIlRoZXkgbXVzdCBhbHNvIG5vdCBoYXZlIHNpZGUtZWZmZWN0cyJ9LCB7ImNvZGUiOiAiU2lkZS1lZmZlY3RpbmcgZnVuY3Rpb25zIGNoYW5nZSBlbnRpdGllcyBvdXRzaWRlIG9mIHRoZWlyIHNjb3BlIiwgImNvcnJlY3QiOiB0cnVlfSwgeyJjb2RlIjogIlB1cmUgZnVuY3Rpb25zIG9ubHkgYWN0IGluIGVudGl0aWVzIGluc2lkZSB0aGVpciBib2R5IiwgImNvcnJlY3QiOiB0cnVlfSwgeyJjb2RlIjogIkZ1bmN0aW9ucyB0aGF0IHJldHVybiAgIGRpZmZlcmVudCB2YWx1ZXMgZm9yIHRoZSBzYW1lIGlucHV0IGFyZSBjYWxsZWQgICBkZXRlcm1pbmlzdGljIiwgImNvcnJlY3QiOiBmYWxzZSwgImZlZWRiYWNrIjogIlRoZXkgYXJlIG5vbi1kZXRlcm1pbmlzdGljIn1dfV0=</span>\n"
   ]
  },
  {
   "cell_type": "markdown",
   "id": "bb4cb024",
   "metadata": {},
   "source": [
    "# Quiz\n",
    "\n",
    "In this section you can check your understanding of the contents of this notebook."
   ]
  },
  {
   "cell_type": "markdown",
   "id": "312e97e2",
   "metadata": {},
   "source": [
    "#### Q1:"
   ]
  },
  {
   "cell_type": "code",
   "execution_count": null,
   "id": "3e01e994",
   "metadata": {},
   "outputs": [],
   "source": [
    "from jupyterquiz import display_quiz\n",
    "\n",
    "display_quiz(\"#question1\")"
   ]
  },
  {
   "cell_type": "markdown",
   "id": "d638c529",
   "metadata": {},
   "source": [
    "#### Q2:"
   ]
  },
  {
   "cell_type": "code",
   "execution_count": null,
   "id": "2975dadf",
   "metadata": {},
   "outputs": [],
   "source": [
    "display_quiz(\"#question2\")"
   ]
  },
  {
   "cell_type": "markdown",
   "id": "974843c3",
   "metadata": {},
   "source": [
    "### Further reading\n",
    "\n",
    "* https://en.wikipedia.org/wiki/Pure_function\n",
    "* https://en.wikipedia.org/wiki/Side_effect_(computer_science)"
   ]
  }
 ],
 "metadata": {
  "kernelspec": {
   "display_name": "Python 3",
   "language": "python",
   "name": "python3"
  },
  "language_info": {
   "codemirror_mode": {
    "name": "ipython",
    "version": 3
   },
   "file_extension": ".py",
   "mimetype": "text/x-python",
   "name": "python",
   "nbconvert_exporter": "python",
   "pygments_lexer": "ipython3",
   "version": "3.8.8"
  }
 },
 "nbformat": 4,
 "nbformat_minor": 5
}
