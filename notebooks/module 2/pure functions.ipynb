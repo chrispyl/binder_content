{
 "cells": [
  {
   "cell_type": "markdown",
   "id": "9a725c2b",
   "metadata": {},
   "source": [
    "# <u><p style=\"text-align: center;\">Pure functions</p></u>\n",
    "\n",
    "### Contents of this notebook \n",
    "* What a pure function is\n",
    "* Difference between pure functions and non-pure functions\n",
    "* Advantages of pure functions for big data applications"
   ]
  },
  {
   "cell_type": "markdown",
   "id": "4eb644ee",
   "metadata": {},
   "source": [
    "### Background\n",
    "\n",
    "This notebook's topic is about **pure functions**. We have already seen that functions are ‘packets’ of code, which receive inputs (through arguments) and produce outputs (through return values). Functions can be used to calculate formulas, but also to write data to files, interact with users, etc. But when is a function a **pure** function? To understand this, we first need to introduce two properties that characterize the operation of functions. These properties are **determinism** and **side-effects**. We will start with a short re-cap of what this means, and then we'll see a couple of examples to help us recognize pure functions in Python."
   ]
  },
  {
   "cell_type": "markdown",
   "id": "f239b04c",
   "metadata": {},
   "source": [
    "#### <u>Deterministic functions</u>\n",
    "When a function produces the <u>same outputs</u> when supplied with the <u>same inputs</u>, this function is called ***deterministic*** (the result can and will be determined from the input only). For example, a mathematical function like *addition*, which adds two values, will always give the same result when the same two values are given as arguments. But a function that makes use of a value that was not given as argument (such as using the current computer clock time in a calculation) may give a different result depending on the situation."
   ]
  },
  {
   "cell_type": "markdown",
   "id": "135f5148",
   "metadata": {},
   "source": [
    "#### <u>Side-effecting functions</u>\n",
    "Continuing to another property, when a function <u>changes</u> a part of a program <u>outside of the function</u> itself, we say that this function has ***side-effects*** (it is affecting its environment). A side-effect could be for example that the value of a variable outside the scope of a function has changed, or that something has been printed on screen, because of the function."
   ]
  },
  {
   "cell_type": "markdown",
   "id": "112aac5f",
   "metadata": {},
   "source": [
    "#### <u>Pure functions</u>\n",
    "Functions that are deterministic and have no side-effects are called **pure functions**. The use of pure functions is helpful in ensuring the correctness of our programs. If we use only pure functions, then our outcomes will be always predictable and reliable, because they do not depend on anything other than our functions and our input parameters. This is also a very important prerequisite for big data: if we use only pure functions, then it doesn't matter on which computer the function is executed, or by whom, or at what moment in time. The function result is always the same when the same input is used (deterministic), and the function result is independent of the situation (no side-effects). The use of pure functions makes it easy to divide a big data task over multiple computers."
   ]
  },
  {
   "cell_type": "markdown",
   "id": "92123670",
   "metadata": {},
   "source": [
    "### Code examples"
   ]
  },
  {
   "cell_type": "markdown",
   "id": "8b6bfdf8",
   "metadata": {},
   "source": [
    "In this section we are going to see examples of functions with the properties described above:   \n",
    "\n",
    "***Example 1:*** demonstrates the effect of a **non-deterministic** function.  \n",
    "***Example 2:*** demonstrates the effect of a function **without** and a function **with** side-effects.  \n",
    "***Example 3:*** is another example of a **side-effecting** function.  \n",
    "***Example 4:*** contains examples of **pure** functions.  "
   ]
  },
  {
   "cell_type": "markdown",
   "id": "681bfc29",
   "metadata": {},
   "source": [
    "#### Example 1: a non-deterministic function\n",
    "Below we have a function named `randint` which returns a **random** integer in the range [1, 10]. This function is imported from Python's standard module **random**, so that it can be called from within our program. Try running the following cells and notice the outputs: "
   ]
  },
  {
   "cell_type": "code",
   "execution_count": null,
   "id": "fb4681cf",
   "metadata": {},
   "outputs": [],
   "source": [
    "from random import randint\n",
    "\n",
    "print(randint(1, 10))"
   ]
  },
  {
   "cell_type": "code",
   "execution_count": null,
   "id": "93f9eb72",
   "metadata": {},
   "outputs": [],
   "source": [
    "print(randint(1, 10))"
   ]
  },
  {
   "cell_type": "code",
   "execution_count": null,
   "id": "f5df8975",
   "metadata": {},
   "outputs": [],
   "source": [
    "print(randint(1, 10))"
   ]
  },
  {
   "cell_type": "markdown",
   "id": "cd20b89e",
   "metadata": {},
   "source": [
    "The output of `randint` changes on each consecutive run even without us changing its inputs. Therefore, the function `randint` is non-deterministic."
   ]
  },
  {
   "cell_type": "markdown",
   "id": "da4bc9a6",
   "metadata": {},
   "source": [
    "#### Example 2: side-effects\n",
    "Let's first talk about <u>return values</u>. A python function typically returns a single result, which we call its return value. These return values must be assigned to variables, be printed, saved to files, passed on to other functions, or otherwise they will be lost. In the code below, `max` is used to find the maximum of two numbers, which is then assigned to a variable **x**:"
   ]
  },
  {
   "cell_type": "code",
   "execution_count": null,
   "id": "28a010d4",
   "metadata": {},
   "outputs": [],
   "source": [
    "x = 5\n",
    "print('x before assignment:', x)\n",
    "x = max(0,3)\n",
    "print('x after assignment:', x)"
   ]
  },
  {
   "cell_type": "markdown",
   "id": "ed984a5e",
   "metadata": {},
   "source": [
    "So is this an example of a side-effect? Remember that functions without side-effects do not change the environment of a program. We see in the example above that the return value of the call to the `max` function is stored in variable **x** in `x = max(0,3)`. But this is not a side effect, because function `max` itself does not change the value of **x**. The function's return value is stored in **x** immediately *after* the call to `max`. That assignment is indeed changing the environment, because the value of **x** changes, but the assignment isn't part of the function `max` itself. So `max` is a function without side-effects."
   ]
  },
  {
   "cell_type": "markdown",
   "id": "f61e27fe",
   "metadata": {},
   "source": [
    "However, there are functions which manage to change the environment of a program without depending on returning values. For instance, `append` is such a function: it appends an item to a list. In the following example we use `append` to put numbers into a list named `number_list`. [To be precise, `append` is a method (hence the .-notation), which behaves like a function, also see the Introduction to Python notebook.] Notice the output of `append`:"
   ]
  },
  {
   "cell_type": "code",
   "execution_count": null,
   "id": "0e43715b",
   "metadata": {},
   "outputs": [],
   "source": [
    "number_list = []\n",
    "\n",
    "append_return_value = number_list.append(1)\n",
    "print('\"append\" return value:', append_return_value) \n",
    "print('number_list:', number_list)"
   ]
  },
  {
   "cell_type": "markdown",
   "id": "87c8bc2e",
   "metadata": {},
   "source": [
    "We observe that the `append` function has no return value, but after we have called it, our variable `number_list` has been changed! <br>\n",
    "When we call `append` again (with argument `2` this time), we see that `number_list`'s value has again changed:"
   ]
  },
  {
   "cell_type": "code",
   "execution_count": null,
   "id": "c1874f65",
   "metadata": {},
   "outputs": [],
   "source": [
    "append_return_value = number_list.append(2)\n",
    "print('\"append\" return value:', append_return_value) \n",
    "print('number_list:', number_list)"
   ]
  },
  {
   "cell_type": "markdown",
   "id": "eca2f5d0",
   "metadata": {},
   "source": [
    "Notice that `append` always returns *None* and still achieves to alter `number_list` without assignment, already during the execution of the call, not afterwards. This is called a side-effect. It does operations 'behind the scenes' to change the environment of our program (namely our variable `number_list`)."
   ]
  },
  {
   "cell_type": "markdown",
   "id": "1172db43",
   "metadata": {},
   "source": [
    "#### Example 3:  another side-function\n",
    "Another case of a side-effecting function is `sort`, which orders the elements of a list:"
   ]
  },
  {
   "cell_type": "code",
   "execution_count": null,
   "id": "9498ba19",
   "metadata": {},
   "outputs": [],
   "source": [
    "number_list = [5,4,1,0,3,2]\n",
    "\n",
    "print(number_list.sort())\n",
    "print(number_list)"
   ]
  },
  {
   "cell_type": "markdown",
   "id": "9d273173",
   "metadata": {},
   "source": [
    "Similarly to `append`, function `sort` also changes the elements in `number_list` without any explicit assignment, so it is a function with a side-effect."
   ]
  },
  {
   "cell_type": "markdown",
   "id": "8ea0ba46",
   "metadata": {},
   "source": [
    "#### Example 4: more examples of pure functions\n",
    "Functions like `max`, which we saw in example 2, are pure since their output depends solely on the input, and they do not change their environment during their execution. Other examples of pure functions are:"
   ]
  },
  {
   "cell_type": "code",
   "execution_count": null,
   "id": "433d06b0",
   "metadata": {},
   "outputs": [],
   "source": [
    "#'abs', which returns the absolute value of a number\n",
    "print(\"abs:\", abs(-5))\n",
    "\n",
    "#'pow', which returns the power of a number\n",
    "print(\"pow:\", pow(2,3))\n",
    "\n",
    "#'str', which can return the string representation of a number\n",
    "print(\"str:\", str(12))\n",
    "\n",
    "#'round', which rounds a number to its nearest integer\n",
    "print(\"round:\", round(12.51))"
   ]
  },
  {
   "cell_type": "markdown",
   "id": "1630abe7",
   "metadata": {},
   "source": [
    "<span style=\"display:none\" id=\"question1\">W3sicXVlc3Rpb24iOiAiV2hpY2ggb2YgdGhlIGZvbGxvd2luZyBmdW5jdGlvbnMgYXJlIHB1cmU/IiwgInR5cGUiOiAibWFueV9jaG9pY2UiLCAiYW5zd2VycyI6IFt7ImNvZGUiOiAiYXBwZW5kIiwgImNvcnJlY3QiOiBmYWxzZSwgImZlZWRiYWNrIjogIidhcHBlbmQnIGlzIHNpZGUtZWZmZWN0aW5nIn0sIHsiY29kZSI6ICJtYXgiLCAiY29ycmVjdCI6IHRydWV9LCB7ImNvZGUiOiAibWluIiwgImNvcnJlY3QiOiB0cnVlfSwgeyJjb2RlIjogInJhbmRpbnQiLCAiY29ycmVjdCI6IGZhbHNlLCAiZmVlZGJhY2siOiAiJ3JhbmRpbnQnIGlzIG5vdCBkZXRlcm1pbmlzdGljIn1dfV0=</span>\n",
    "\n",
    "<span style=\"display:none\" id=\"question2\">W3sicXVlc3Rpb24iOiAiV2hpY2ggb2YgdGhlIGZvbGxvd2luZyBzdGF0ZW1lbnRzIGFyZSB0cnVlPyIsICJ0eXBlIjogIm1hbnlfY2hvaWNlIiwgImFuc3dlcnMiOiBbeyJjb2RlIjogIkRldGVybWluaXN0aWMgZnVuY3Rpb25zIGFyZSBwdXJlIiwgImNvcnJlY3QiOiBmYWxzZSwgImZlZWRiYWNrIjogIlRoZXkgbXVzdCBhbHNvIG5vdCBoYXZlIHNpZGUtZWZmZWN0cyJ9LCB7ImNvZGUiOiAiU2lkZS1lZmZlY3RpbmcgZnVuY3Rpb25zIGNoYW5nZSBlbnRpdGllcyBvdXRzaWRlIG9mIHRoZWlyIHNjb3BlIiwgImNvcnJlY3QiOiB0cnVlfSwgeyJjb2RlIjogIlB1cmUgZnVuY3Rpb25zIG9ubHkgYWN0IGluIGVudGl0aWVzIGluc2lkZSB0aGVpciBib2R5IiwgImNvcnJlY3QiOiB0cnVlfSwgeyJjb2RlIjogIkZ1bmN0aW9ucyB0aGF0IHJldHVybiAgIGRpZmZlcmVudCB2YWx1ZXMgZm9yIHRoZSBzYW1lIGlucHV0IGFyZSBjYWxsZWQgICBkZXRlcm1pbmlzdGljIiwgImNvcnJlY3QiOiBmYWxzZSwgImZlZWRiYWNrIjogIlRoZXkgYXJlIG5vbi1kZXRlcm1pbmlzdGljIn1dfV0=</span>\n"
   ]
  },
  {
   "cell_type": "markdown",
   "id": "bb4cb024",
   "metadata": {},
   "source": [
    "# Quiz\n",
    "\n",
    "In this section you can check your understanding of the contents of this notebook."
   ]
  },
  {
   "cell_type": "markdown",
   "id": "312e97e2",
   "metadata": {},
   "source": [
    "#### Q1:"
   ]
  },
  {
   "cell_type": "code",
   "execution_count": null,
   "id": "3e01e994",
   "metadata": {},
   "outputs": [],
   "source": [
    "from jupyterquiz import display_quiz\n",
    "\n",
    "display_quiz(\"#question1\")"
   ]
  },
  {
   "cell_type": "markdown",
   "id": "d638c529",
   "metadata": {},
   "source": [
    "#### Q2:"
   ]
  },
  {
   "cell_type": "code",
   "execution_count": null,
   "id": "2975dadf",
   "metadata": {},
   "outputs": [],
   "source": [
    "display_quiz(\"#question2\")"
   ]
  },
  {
   "cell_type": "markdown",
   "id": "974843c3",
   "metadata": {},
   "source": [
    "### Further reading\n",
    "\n",
    "* [Pure functions](https://en.wikipedia.org/wiki/Pure_function)\n",
    "* [Side effects](https://en.wikipedia.org/wiki/Side_effect_(computer_science))"
   ]
  }
 ],
 "metadata": {
  "kernelspec": {
   "display_name": "Python 3",
   "language": "python",
   "name": "python3"
  },
  "language_info": {
   "codemirror_mode": {
    "name": "ipython",
    "version": 3
   },
   "file_extension": ".py",
   "mimetype": "text/x-python",
   "name": "python",
   "nbconvert_exporter": "python",
   "pygments_lexer": "ipython3",
   "version": "3.8.8"
  }
 },
 "nbformat": 4,
 "nbformat_minor": 5
}
