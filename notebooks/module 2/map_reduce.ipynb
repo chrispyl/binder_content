{
 "cells": [
  {
   "cell_type": "markdown",
   "id": "6f01c476",
   "metadata": {},
   "source": [
    "# <u><p style=\"text-align: center;\">MapReduce</p></u>\n",
    "\n",
    "### Learning goals  \n",
    "Students will be able to:  \n",
    "*\tExplain how map and reduce can be combined to operate on data"
   ]
  },
  {
   "cell_type": "markdown",
   "id": "58bae31f",
   "metadata": {},
   "source": [
    "### Background\n",
    "\n",
    "`Map` and `reduce` operations are combined into a workflow for data transformations called **mapReduce**. As the name suggests, in this workflow the functions are first mapped to data and the result of this operation goes through the `reduce` operation. This workflow allows a high degree of parallelization since both operations are parallelizable and as a result suitable for working with large amounts of data. "
   ]
  },
  {
   "cell_type": "markdown",
   "id": "e563fa12",
   "metadata": {},
   "source": [
    "### Code examples"
   ]
  },
  {
   "cell_type": "markdown",
   "id": "3b32c76e",
   "metadata": {},
   "source": [
    "#### Example 1:\n",
    "Usually, different datasets come with different representations for dates. A common representation is to store dates as `dd-mm-yyyy`. In our first example, we are going to use mapReduce to process such formatted dates in order to find the most recent year later. \n",
    "\n",
    "For this we have a list of dates:"
   ]
  },
  {
   "cell_type": "code",
   "execution_count": null,
   "id": "7a90acfd",
   "metadata": {},
   "outputs": [],
   "source": [
    "dates = ['9-1-2004',\n",
    "        '19-5-1986',\n",
    "        '27-10-2018',\n",
    "        '5-4-2021',\n",
    "        '16-8-1936']"
   ]
  },
  {
   "cell_type": "markdown",
   "id": "03050089",
   "metadata": {},
   "source": [
    "and a function that extracts the year from our date:"
   ]
  },
  {
   "cell_type": "code",
   "execution_count": null,
   "id": "423e6dc2",
   "metadata": {},
   "outputs": [],
   "source": [
    "def extract_year(date):\n",
    "    return date[-4:] #retain the last 4 characters of the date string\n",
    "\n",
    "print(extract_year('27-10-2018'))"
   ]
  },
  {
   "cell_type": "markdown",
   "id": "1108d7d5",
   "metadata": {},
   "source": [
    "so we can proceeed with the `map` and `reduce` operations:"
   ]
  },
  {
   "cell_type": "code",
   "execution_count": null,
   "id": "b463f70e",
   "metadata": {},
   "outputs": [],
   "source": [
    "from functools import reduce\n",
    "\n",
    "years = list(map(extract_year, dates))\n",
    "most_recent_year = reduce(max, years)\n",
    "print(most_recent_year)"
   ]
  },
  {
   "cell_type": "markdown",
   "id": "fcd01bb8",
   "metadata": {},
   "source": [
    "#### Example 2:\n",
    "Next we have some chicken gait length measurements and we want to convert them from millimeters to meters. Also, after the conversion we want to find the chicken with the longest gait."
   ]
  },
  {
   "cell_type": "markdown",
   "id": "74def68c",
   "metadata": {},
   "source": [
    "We have the chicken entries:"
   ]
  },
  {
   "cell_type": "code",
   "execution_count": null,
   "id": "62fb0852",
   "metadata": {},
   "outputs": [],
   "source": [
    "chickens = [{'name': 'Elliot', 'gait_length': 50 },\n",
    "            {'name': 'Susanna', 'gait_length': 30 },\n",
    "            {'name': 'John', 'gait_length': 10 },\n",
    "            {'name': 'Jane', 'gait_length': 70},\n",
    "            {'name': 'Dolores', 'gait_length': 40}]"
   ]
  },
  {
   "cell_type": "markdown",
   "id": "0497680b",
   "metadata": {},
   "source": [
    "a function that converts the gait from millimeters to meters for a chicken entry:"
   ]
  },
  {
   "cell_type": "code",
   "execution_count": null,
   "id": "4c2dfd78",
   "metadata": {},
   "outputs": [],
   "source": [
    "def mm_to_m(chicken):\n",
    "    \n",
    "    chicken_dict = {'name': chicken['name'], 'gait_length': chicken['gait_length'] / 1000}\n",
    "    \n",
    "    return chicken_dict\n",
    "\n",
    "print(mm_to_m({'name': 'Elliot', 'gait_length': 50 }))"
   ]
  },
  {
   "cell_type": "markdown",
   "id": "095575aa",
   "metadata": {},
   "source": [
    "a function that compares the gait of two chicken entries:"
   ]
  },
  {
   "cell_type": "code",
   "execution_count": null,
   "id": "57110c20",
   "metadata": {},
   "outputs": [],
   "source": [
    "def max_gait(chicken_1, chicken_2):\n",
    "    \n",
    "    if chicken_1['gait_length'] > chicken_2['gait_length']:\n",
    "        longest_gait_chicken = chicken_1\n",
    "    else:\n",
    "        longest_gait_chicken = chicken_2\n",
    "    \n",
    "    return longest_gait_chicken\n",
    "\n",
    "print(max_gait({'name': 'Susanna', 'gait_length': 30 }, {'name': 'Dolores', 'gait_length': 40}))"
   ]
  },
  {
   "cell_type": "markdown",
   "id": "af72cafd",
   "metadata": {},
   "source": [
    "and the map and reduce operations:"
   ]
  },
  {
   "cell_type": "code",
   "execution_count": null,
   "id": "8e95e9e3",
   "metadata": {},
   "outputs": [],
   "source": [
    "converted_entries = list(map(mm_to_m, chickens))\n",
    "longest_gait_chicken = reduce(max_gait, converted_entries)\n",
    "print(longest_gait_chicken)"
   ]
  },
  {
   "cell_type": "markdown",
   "id": "c1e0c586",
   "metadata": {},
   "source": [
    "#### Example 3:\n",
    "Next, we are given the gross weight of some potato crates, and we want to calculate the net weight of the potatoes as well as the average net weight:"
   ]
  },
  {
   "cell_type": "code",
   "execution_count": null,
   "id": "9d910cff",
   "metadata": {},
   "outputs": [],
   "source": [
    "gross_weights = [30, 32, 28, 28.7, 31.2] #kg"
   ]
  },
  {
   "cell_type": "markdown",
   "id": "353babeb",
   "metadata": {},
   "source": [
    "To calculate the net weight we need to subract the crate weight from each gross weight:"
   ]
  },
  {
   "cell_type": "code",
   "execution_count": null,
   "id": "b29ab2a7",
   "metadata": {},
   "outputs": [],
   "source": [
    "def calculate_net_weight(gross_weight):\n",
    "    return gross_weight - 1 #we subtract the crate weight which we assume to be 1, from the gross weight\n",
    "\n",
    "net_weights = list(map(calculate_net_weight, gross_weights))"
   ]
  },
  {
   "cell_type": "markdown",
   "id": "22dafc46",
   "metadata": {},
   "source": [
    "and then calculate the average net weight:"
   ]
  },
  {
   "cell_type": "code",
   "execution_count": null,
   "id": "7646095e",
   "metadata": {},
   "outputs": [],
   "source": [
    "def add(x, y):\n",
    "    return x + y\n",
    "\n",
    "total_net_weight = reduce(add, net_weights)\n",
    "average_net_weight = total_net_weight / len(net_weights)\n",
    "print(average_net_weight)"
   ]
  },
  {
   "cell_type": "markdown",
   "id": "d673ee4d",
   "metadata": {},
   "source": [
    "<span style=\"display:none\" id=\"question1\">W3sicXVlc3Rpb24iOiAiV2hpY2ggb2YgdGhlIGZvbGxvd2luZyBzdGF0ZW1lbnRzIGFyZSBjb3JyZWN0IGZvciBtYXBSZWR1Y2U/IiwgInR5cGUiOiAibXVsdGlwbGVfY2hvaWNlIiwgImFuc3dlcnMiOiBbeyJjb2RlIjogIml0IGJyZWFrcyBkb3duIHRoZSAgICAgIHdvcmtsb2FkIGludG8gc21hbGxlciAgIHBpZWNlcyBvZiB3b3JrIHRoYXQgY2FuIGJlIG9wZXJhdGVkIG9uIGluICAgICAgIHBhcmFsbGVsIiwgImNvcnJlY3QiOiB0cnVlfSwgeyJjb2RlIjogIml0IGNhbm5vdCBiZSB1c2VkIGZvciAgIHNtYWxsIGRhdGFzZXRzIiwgImNvcnJlY3QiOiBmYWxzZSwgImZlZWRiYWNrIjogIkl0IGlzIHN1aXRhYmxlIGZvciBib3RoIHNtYWxsIGFuZCBiaWcgZGF0YXNldHMifSwgeyJjb2RlIjogIml0IGlzIHN1aXRhYmxlIG9ubHkgZm9yIG51bWVyaWNhbCBkYXRhc2V0cyIsICJjb3JyZWN0IjogZmFsc2UsICJmZWVkYmFjayI6ICJJdCBpcyBub3QgbGltaXRlZCB0byBudW1lcmljYWwgZGF0YSJ9XX1d</span>"
   ]
  },
  {
   "cell_type": "markdown",
   "id": "e78d7882",
   "metadata": {},
   "source": [
    "## Quiz"
   ]
  },
  {
   "cell_type": "markdown",
   "id": "6faf5cd4",
   "metadata": {},
   "source": [
    "#### Q1:"
   ]
  },
  {
   "cell_type": "code",
   "execution_count": null,
   "id": "48b93f30",
   "metadata": {},
   "outputs": [],
   "source": [
    "from jupyterquiz import display_quiz\n",
    "\n",
    "display_quiz(\"#question1\")"
   ]
  },
  {
   "cell_type": "markdown",
   "id": "671b8c56",
   "metadata": {},
   "source": [
    "### Further reading\n",
    "\n",
    "* https://en.wikipedia.org/wiki/MapReduce"
   ]
  }
 ],
 "metadata": {
  "kernelspec": {
   "display_name": "Python 3",
   "language": "python",
   "name": "python3"
  },
  "language_info": {
   "codemirror_mode": {
    "name": "ipython",
    "version": 3
   },
   "file_extension": ".py",
   "mimetype": "text/x-python",
   "name": "python",
   "nbconvert_exporter": "python",
   "pygments_lexer": "ipython3",
   "version": "3.8.8"
  }
 },
 "nbformat": 4,
 "nbformat_minor": 5
}
