{
 "cells": [
  {
   "cell_type": "markdown",
   "id": "02f51526",
   "metadata": {},
   "source": [
    "# <u><p style=\"text-align: center;\">Map</p></u>\n",
    "\n",
    "### Learning goals  \n",
    "Students will be able to:  \n",
    "*\tExplain how the map function works \n",
    "*\tRecognize map operations in python"
   ]
  },
  {
   "cell_type": "markdown",
   "id": "c3378c26",
   "metadata": {},
   "source": [
    "### Background\n",
    "\n",
    "A common programming task is to apply functions to collections of data. A concise technique toe can do this by using `for` loops, but ideally we would like to have a more concise technique to perform this procedure. This technique is called `map`, and most programming languages have it implemented as a function. `Map` applies a function to a collection of data <u>elementwise</u> (to each individual element), and returns a collection containing with the results."
   ]
  },
  {
   "cell_type": "markdown",
   "id": "ebe53b14",
   "metadata": {},
   "source": [
    "`Map` is an important technique because it allows to break calculations in smaller parts, that can then be and distributed them across different cores/machines in order to carry them out faster. In the context of big data, it is a good practice to use <u>pure</u> functions for the map operations to ensure reproducibility and correctness of the results."
   ]
  },
  {
   "cell_type": "markdown",
   "id": "7c68fa29",
   "metadata": {},
   "source": [
    "### Code examples"
   ]
  },
  {
   "cell_type": "markdown",
   "id": "f74969c5",
   "metadata": {},
   "source": [
    "The syntax of `map` is:"
   ]
  },
  {
   "cell_type": "raw",
   "id": "eb738040",
   "metadata": {},
   "source": [
    "map(function, collection)"
   ]
  },
  {
   "cell_type": "markdown",
   "id": "ec6e85ff",
   "metadata": {},
   "source": [
    "#### Example 1:\n",
    "In our first example, we are going to calculate the square root of each element in list. To do this we will apply the `sqrt` function:"
   ]
  },
  {
   "cell_type": "code",
   "execution_count": null,
   "id": "63df4de3",
   "metadata": {},
   "outputs": [],
   "source": [
    "from math import sqrt\n",
    "\n",
    "print(sqrt(4))"
   ]
  },
  {
   "cell_type": "markdown",
   "id": "776d6868",
   "metadata": {},
   "source": [
    "to each element of a list:"
   ]
  },
  {
   "cell_type": "code",
   "execution_count": null,
   "id": "8cd97a5f",
   "metadata": {},
   "outputs": [],
   "source": [
    "result = list(map(sqrt, [1, 2, 3, 4, 5]))\n",
    "print(result)"
   ]
  },
  {
   "cell_type": "markdown",
   "id": "d1186782",
   "metadata": {},
   "source": [
    "#### Example 2:\n",
    "In the following example, we are going to create the plural version of different words. To do this we have created the `plural` function which appends an 's' at the end of a word:"
   ]
  },
  {
   "cell_type": "code",
   "execution_count": null,
   "id": "e626776d",
   "metadata": {},
   "outputs": [],
   "source": [
    "def plural(word):\n",
    "    return word + 's'\n",
    "\n",
    "plural('horse')"
   ]
  },
  {
   "cell_type": "markdown",
   "id": "5229eb7f",
   "metadata": {},
   "source": [
    "and we apply it to a list of words using `map`:"
   ]
  },
  {
   "cell_type": "code",
   "execution_count": null,
   "id": "8a145684",
   "metadata": {},
   "outputs": [],
   "source": [
    "result = list(map(plural, ['dog', 'carrot', 'chair', 'horse', 'drink']))\n",
    "print(result)"
   ]
  },
  {
   "cell_type": "markdown",
   "id": "6be40eb1",
   "metadata": {},
   "source": [
    "#### Example 3:\n",
    "Below, we convert a list of Celsius temperatures to Fahrenheit. The formula for the conversion is: $$ ^\\text{o}F = ^\\text{o}C \\times 9/5 + 32 $$"
   ]
  },
  {
   "cell_type": "markdown",
   "id": "e29e137b",
   "metadata": {},
   "source": [
    "so the corresponding function is:"
   ]
  },
  {
   "cell_type": "code",
   "execution_count": null,
   "id": "fb30efea",
   "metadata": {},
   "outputs": [],
   "source": [
    "def to_Fahrenheit(temperature):\n",
    "    return temperature * 9/5 + 32"
   ]
  },
  {
   "cell_type": "markdown",
   "id": "dc4bcb55",
   "metadata": {},
   "source": [
    "and supplying to map gives:"
   ]
  },
  {
   "cell_type": "code",
   "execution_count": null,
   "id": "7f6e9463",
   "metadata": {},
   "outputs": [],
   "source": [
    "result = list(map(to_Fahrenheit, [10, 15, 9, -2, 30]))\n",
    "print(result)"
   ]
  },
  {
   "cell_type": "markdown",
   "id": "6e86956f",
   "metadata": {},
   "source": [
    "<span style=\"display:none\" id=\"question1\">W3sicXVlc3Rpb24iOiAiJ01hcCcgdGFrZXMgYSBmdW5jdGlvbiBhbmQgYXBwbGllcyBpdCB0byB0aGUgZ2l2ZW4gY29sbGVjdGlvbjoiLCAidHlwZSI6ICJtdWx0aXBsZV9jaG9pY2UiLCAiYW5zd2VycyI6IFt7ImNvZGUiOiAiZWxlbWVudHdpc2UiLCAiY29ycmVjdCI6IHRydWV9LCB7ImNvZGUiOiAiZm9yIGhhbGYgb2YgdGhlIGVsZW1lbnRzIiwgImNvcnJlY3QiOiBmYWxzZX0sIHsiY29kZSI6ICJhcyBhIHdob2xlIiwgImNvcnJlY3QiOiBmYWxzZX1dfV0=</span>\n",
    "\n",
    "<span style=\"display:none\" id=\"question2\">W3sicXVlc3Rpb24iOiAiV2hhdCB3aWxsIGJlIHRoZSBvdXRwdXQgb2YgdGhlIGFib3ZlIGZ1bmN0aW9uIChxdWl6X2Z1bmN0aW9uKSBpZiB3ZSBtYXAgaXQgdG8gdGhlIGxpc3QgWy0yLCAtMSwgMCwgMSwgMl0iLCAidHlwZSI6ICJtdWx0aXBsZV9jaG9pY2UiLCAiYW5zd2VycyI6IFt7ImNvZGUiOiAiWy0yLCAtMSwgMCwgMCwgMF0iLCAiY29ycmVjdCI6IHRydWV9LCB7ImNvZGUiOiAiWzAsIDAsIDAsIDEsIDJdIiwgImNvcnJlY3QiOiBmYWxzZSwgImZlZWRiYWNrIjogInF1aXpfZnVuY3Rpb24gcmV0dXJucyB0aGUgc21hbGxlc3QgbnVtYmVyIGJldHdlZW4gMCBhbmQgaXRzIGlucHV0LiJ9LCB7ImNvZGUiOiAiWzAsIDAsIDAsIDAsIDBdIiwgImNvcnJlY3QiOiBmYWxzZSwgImZlZWRiYWNrIjogInF1aXpfZnVuY3Rpb24gcmV0dXJucyB0aGUgc21hbGxlc3QgbnVtYmVyIGJldHdlZW4gMCBhbmQgaXRzIGlucHV0LiJ9XX1d</span>"
   ]
  },
  {
   "cell_type": "markdown",
   "id": "a134706b",
   "metadata": {},
   "source": [
    "## Quiz"
   ]
  },
  {
   "cell_type": "markdown",
   "id": "64bf1f6b",
   "metadata": {},
   "source": [
    "#### Q1:"
   ]
  },
  {
   "cell_type": "code",
   "execution_count": null,
   "id": "e1377b9a",
   "metadata": {},
   "outputs": [],
   "source": [
    "from jupyterquiz import display_quiz\n",
    "\n",
    "display_quiz(\"#question1\")"
   ]
  },
  {
   "cell_type": "markdown",
   "id": "1d75dc9e",
   "metadata": {},
   "source": [
    "#### Q2:"
   ]
  },
  {
   "cell_type": "markdown",
   "id": "a343d12a",
   "metadata": {},
   "source": [
    "<img src=\"imgs/map_function.png\" width=\"350\"/>"
   ]
  },
  {
   "cell_type": "code",
   "execution_count": null,
   "id": "7f0ca5da",
   "metadata": {},
   "outputs": [],
   "source": [
    "display_quiz(\"#question2\")"
   ]
  },
  {
   "cell_type": "markdown",
   "id": "ca704dd0",
   "metadata": {},
   "source": [
    "### More advanced examples"
   ]
  },
  {
   "cell_type": "markdown",
   "id": "42e25208",
   "metadata": {},
   "source": [
    "#### Example A1:\n",
    "There are cases where we would like to use `map` with more than one collection of data. This is possible using the following syntax:"
   ]
  },
  {
   "cell_type": "raw",
   "id": "fac19683",
   "metadata": {},
   "source": [
    "map(function, collection_1, collection_2, ....)"
   ]
  },
  {
   "cell_type": "markdown",
   "id": "68da6b4f",
   "metadata": {},
   "source": [
    "To showcase its usefulness let's suppose that we have a list with the amount of food that different species of animals eat daily in a farm:"
   ]
  },
  {
   "cell_type": "code",
   "execution_count": null,
   "id": "722d7a59",
   "metadata": {},
   "outputs": [],
   "source": [
    "# Each index of the list corresponds to the ammount of food for one species, so:\n",
    "# horses -> 50 kg\n",
    "# sheep -> 30 kg\n",
    "# chickens -> 15 kg\n",
    "# cows -> 100 kg\n",
    "animal_food = [50, 30, 15, 100]"
   ]
  },
  {
   "cell_type": "markdown",
   "id": "bd1fb282",
   "metadata": {},
   "source": [
    "And now we would like to know how much food each species consumes on Monday, Tuesday and Wednesday. So for these days our lists would be:"
   ]
  },
  {
   "cell_type": "code",
   "execution_count": null,
   "id": "65fd9525",
   "metadata": {},
   "outputs": [],
   "source": [
    "food_Monday = [50, 30, 15, 100]\n",
    "food_Tuesday = [45, 32, 16, 98]\n",
    "food_Wednesday = [50, 29, 16, 110]"
   ]
  },
  {
   "cell_type": "markdown",
   "id": "34923215",
   "metadata": {},
   "source": [
    "To calculate the total food for each species we define the `add` function:"
   ]
  },
  {
   "cell_type": "code",
   "execution_count": null,
   "id": "b3ec1832",
   "metadata": {},
   "outputs": [],
   "source": [
    "def add(day_1, day_2, day_3):\n",
    "    return day_1 + day_2 + day_3"
   ]
  },
  {
   "cell_type": "markdown",
   "id": "f70b5aed",
   "metadata": {},
   "source": [
    "and write:"
   ]
  },
  {
   "cell_type": "code",
   "execution_count": null,
   "id": "1c51db67",
   "metadata": {},
   "outputs": [],
   "source": [
    "result = list(map(add, food_Monday, food_Tuesday, food_Wednesday))\n",
    "print(result)"
   ]
  },
  {
   "cell_type": "markdown",
   "id": "151fc58d",
   "metadata": {},
   "source": [
    "The end result occurs as $$50+45+50=145$$\n",
    "$$30+32+29=91$$\n",
    "$$15+16+16=47$$\n",
    "$$100+98+110=308$$"
   ]
  },
  {
   "cell_type": "markdown",
   "id": "e1fa3588",
   "metadata": {},
   "source": [
    "#### Example A2:"
   ]
  },
  {
   "cell_type": "markdown",
   "id": "1ab94ec5",
   "metadata": {},
   "source": [
    "In many cases we would like to write short functions which are going to be used only once inside a `map`, without having to define a new function. This is possible with <u>lambdas</u>. The function `add` which we defined before could be replaced by the following lambda: "
   ]
  },
  {
   "cell_type": "code",
   "execution_count": null,
   "id": "d0c168b3",
   "metadata": {},
   "outputs": [],
   "source": [
    "lambda day_1, day_2, day_3: day_1 + day_2 + day_3"
   ]
  },
  {
   "cell_type": "markdown",
   "id": "07083040",
   "metadata": {},
   "source": [
    "and correspondingly be used to map as:"
   ]
  },
  {
   "cell_type": "code",
   "execution_count": null,
   "id": "983e861a",
   "metadata": {},
   "outputs": [],
   "source": [
    "result = list(map(lambda day_1, day_2, day_3: day_1 + day_2 + day_3, food_Monday, food_Tuesday, food_Wednesday))\n",
    "print(result)"
   ]
  },
  {
   "cell_type": "markdown",
   "id": "06ec93b2",
   "metadata": {},
   "source": [
    "For more material on lambdas refer to *Further reading* section."
   ]
  },
  {
   "cell_type": "markdown",
   "id": "b2fbd679",
   "metadata": {},
   "source": [
    "### Further reading\n",
    "\n",
    "* https://en.wikipedia.org/wiki/Map_(higher-order_function)\n",
    "* https://docs.python.org/3/library/functions.html#map\n",
    "* https://en.wikipedia.org/wiki/Anonymous_function\n",
    "* https://docs.python.org/3/glossary.html#term-lambda"
   ]
  }
 ],
 "metadata": {
  "kernelspec": {
   "display_name": "Python 3",
   "language": "python",
   "name": "python3"
  },
  "language_info": {
   "codemirror_mode": {
    "name": "ipython",
    "version": 3
   },
   "file_extension": ".py",
   "mimetype": "text/x-python",
   "name": "python",
   "nbconvert_exporter": "python",
   "pygments_lexer": "ipython3",
   "version": "3.8.8"
  }
 },
 "nbformat": 4,
 "nbformat_minor": 5
}
