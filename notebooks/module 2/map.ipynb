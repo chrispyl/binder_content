{
 "cells": [
  {
   "cell_type": "markdown",
   "id": "02f51526",
   "metadata": {},
   "source": [
    "# <u><p style=\"text-align: center;\">Map</p></u>\n",
    "\n",
    "### Contents of this notebook \n",
    "* How the map operation works \n",
    "* Map operations in Python"
   ]
  },
  {
   "cell_type": "markdown",
   "id": "c3378c26",
   "metadata": {},
   "source": [
    "### Background\n",
    "\n",
    "A common programming task is to apply the same function to collections of data. A common technique to do this is by using a `for` loop, meaning that a piece of code is evaluated repeatedly for a range of values. For big data applications, it would be better to have a more concise technique to perform this procedure. This technique is called `map`, and most programming languages have it implemented as a function. `Map` applies a function to a collection of data <u>elementwise</u> (to each individual element) and returns a collection containing the results. \n",
    "\n",
    "`Map` allows to break calculations into smaller parts, that can then be distributed across different cores/machines in order to carry them out faster. In the context of big data, it is a good practice to use <u>pure</u> functions for the map operations to ensure reproducibility, correctness and robustness of the results."
   ]
  },
  {
   "cell_type": "markdown",
   "id": "7c68fa29",
   "metadata": {},
   "source": [
    "### Code examples"
   ]
  },
  {
   "cell_type": "markdown",
   "id": "d7e8bfa7",
   "metadata": {},
   "source": [
    "In this section we are going to see some examples of how to apply the `map` function: \n",
    "\n",
    "***Example 1:*** applies `map` to calculate the square root of each element in a list.   \n",
    "***Example 2:*** demonstrates how `map` can be used to turn a list of words into their plurals.   \n",
    "***Example 3:*** demonstrates how `map` can be used to convert a list of temperatures in Celcius into their Fahrenheit equivalents.  "
   ]
  },
  {
   "cell_type": "markdown",
   "id": "f74969c5",
   "metadata": {},
   "source": [
    "The syntax of `map` is:"
   ]
  },
  {
   "cell_type": "raw",
   "id": "eb738040",
   "metadata": {},
   "source": [
    "map(function, collection)"
   ]
  },
  {
   "cell_type": "markdown",
   "id": "ec6e85ff",
   "metadata": {},
   "source": [
    "#### Example 1: square roots\n",
    "In our first example, we are going to calculate the square root of each element in a list. To do this we will apply the `sqrt` function. Let's take a look at this function first (it is imported from Python's standard `math` module):"
   ]
  },
  {
   "cell_type": "code",
   "execution_count": null,
   "id": "63df4de3",
   "metadata": {},
   "outputs": [],
   "source": [
    "from math import sqrt\n",
    "\n",
    "print(sqrt(4))"
   ]
  },
  {
   "cell_type": "markdown",
   "id": "776d6868",
   "metadata": {},
   "source": [
    "Now we use the `map` function to apply the function `sqrt` to each element of a list:"
   ]
  },
  {
   "cell_type": "code",
   "execution_count": null,
   "id": "8cd97a5f",
   "metadata": {},
   "outputs": [],
   "source": [
    "result = map(sqrt, [1, 2, 3, 4, 5])\n",
    "print(result)"
   ]
  },
  {
   "cell_type": "markdown",
   "id": "97e22075",
   "metadata": {},
   "source": [
    "We notice that `map` returns an object which contains the result of the function applied to each element of the list. To see the results we can convert this object into a list before we assign it to the variable `result`:"
   ]
  },
  {
   "cell_type": "code",
   "execution_count": null,
   "id": "b341a3ea",
   "metadata": {},
   "outputs": [],
   "source": [
    "result = list(map(sqrt, [1, 2, 3, 4, 5]))\n",
    "print(result)"
   ]
  },
  {
   "cell_type": "markdown",
   "id": "d1186782",
   "metadata": {},
   "source": [
    "#### Example 2: turn words into their plural versions\n",
    "In the following example, we are going to create the plural version of different words. To do this we have created the `plural` function which takes a word as an argument and returns the word with an *-s* appended at the end of it. Note that adding an *-s* to make it plural will not work for every English noun. To keep things simple, we ignore that for this exercise. Let's have a look at this function and call it with argument 'horse'. You can also try it out with other words too:"
   ]
  },
  {
   "cell_type": "code",
   "execution_count": null,
   "id": "e626776d",
   "metadata": {},
   "outputs": [],
   "source": [
    "def plural(word):\n",
    "    return word + 's'\n",
    "\n",
    "plural('horse')"
   ]
  },
  {
   "cell_type": "markdown",
   "id": "5229eb7f",
   "metadata": {},
   "source": [
    "Now we use `map` to apply this function `plural` to a list of words:"
   ]
  },
  {
   "cell_type": "code",
   "execution_count": null,
   "id": "8a145684",
   "metadata": {},
   "outputs": [],
   "source": [
    "result = list(map(plural, ['dog', 'carrot', 'chair', 'horse', 'drink']))\n",
    "print(result)"
   ]
  },
  {
   "cell_type": "markdown",
   "id": "6be40eb1",
   "metadata": {},
   "source": [
    "#### Example 3: Celsius to Fahrenheit\n",
    "Below, we convert a list of Celsius temperatures to Fahrenheit. The formula for the conversion is: $$ ^\\text{o}F = ^\\text{o}C \\times 9/5 + 32 $$"
   ]
  },
  {
   "cell_type": "markdown",
   "id": "e29e137b",
   "metadata": {},
   "source": [
    "so we define the corresponding function as follows:"
   ]
  },
  {
   "cell_type": "code",
   "execution_count": null,
   "id": "fb30efea",
   "metadata": {},
   "outputs": [],
   "source": [
    "def to_Fahrenheit(temperature):\n",
    "    return temperature * 9/5 + 32"
   ]
  },
  {
   "cell_type": "markdown",
   "id": "d1ec154f",
   "metadata": {},
   "source": [
    "Next, we test its output:"
   ]
  },
  {
   "cell_type": "code",
   "execution_count": null,
   "id": "1872bc38",
   "metadata": {},
   "outputs": [],
   "source": [
    "temp = 21\n",
    "print(temp, \"degrees Celsius equals to\", to_Fahrenheit(temp), \"degrees in Fahrenheit.\")"
   ]
  },
  {
   "cell_type": "markdown",
   "id": "dc4bcb55",
   "metadata": {},
   "source": [
    "Supplying this function to map gives:"
   ]
  },
  {
   "cell_type": "code",
   "execution_count": null,
   "id": "7f6e9463",
   "metadata": {},
   "outputs": [],
   "source": [
    "result = list(map(to_Fahrenheit, [10, 15, 9, -2, 30]))\n",
    "print(result)"
   ]
  },
  {
   "cell_type": "markdown",
   "id": "6e86956f",
   "metadata": {},
   "source": [
    "<span style=\"display:none\" id=\"question1\">W3sicXVlc3Rpb24iOiAiJ01hcCcgdGFrZXMgYSBmdW5jdGlvbiBhbmQgYXBwbGllcyBpdCB0byB0aGUgZ2l2ZW4gY29sbGVjdGlvbjoiLCAidHlwZSI6ICJtdWx0aXBsZV9jaG9pY2UiLCAiYW5zd2VycyI6IFt7ImNvZGUiOiAiZWxlbWVudHdpc2UiLCAiY29ycmVjdCI6IHRydWV9LCB7ImNvZGUiOiAiZm9yIGhhbGYgb2YgdGhlIGVsZW1lbnRzIiwgImNvcnJlY3QiOiBmYWxzZX0sIHsiY29kZSI6ICJhcyBhIHdob2xlIiwgImNvcnJlY3QiOiBmYWxzZX1dfV0=</span>\n",
    "\n",
    "<span style=\"display:none\" id=\"question2\">W3sicXVlc3Rpb24iOiAiV2hhdCB3aWxsIGJlIHRoZSBvdXRwdXQgb2YgdGhlIGFib3ZlIGZ1bmN0aW9uIChxdWl6X2Z1bmN0aW9uKSBpZiB3ZSBtYXAgaXQgdG8gdGhlIGxpc3QgWy0yLCAtMSwgMCwgMSwgMl0iLCAidHlwZSI6ICJtdWx0aXBsZV9jaG9pY2UiLCAiYW5zd2VycyI6IFt7ImNvZGUiOiAiWy0yLCAtMSwgMCwgMCwgMF0iLCAiY29ycmVjdCI6IHRydWV9LCB7ImNvZGUiOiAiWzAsIDAsIDAsIDEsIDJdIiwgImNvcnJlY3QiOiBmYWxzZSwgImZlZWRiYWNrIjogInF1aXpfZnVuY3Rpb24gcmV0dXJucyB0aGUgc21hbGxlc3QgbnVtYmVyIGJldHdlZW4gMCBhbmQgaXRzIGlucHV0LiJ9LCB7ImNvZGUiOiAiWzAsIDAsIDAsIDAsIDBdIiwgImNvcnJlY3QiOiBmYWxzZSwgImZlZWRiYWNrIjogInF1aXpfZnVuY3Rpb24gcmV0dXJucyB0aGUgc21hbGxlc3QgbnVtYmVyIGJldHdlZW4gMCBhbmQgaXRzIGlucHV0LiJ9XX1d</span>"
   ]
  },
  {
   "cell_type": "markdown",
   "id": "a134706b",
   "metadata": {},
   "source": [
    "### Practice questions"
   ]
  },
  {
   "cell_type": "markdown",
   "id": "64bf1f6b",
   "metadata": {},
   "source": [
    "#### Q1:"
   ]
  },
  {
   "cell_type": "code",
   "execution_count": null,
   "id": "e1377b9a",
   "metadata": {},
   "outputs": [],
   "source": [
    "from jupyterquiz import display_quiz\n",
    "\n",
    "display_quiz(\"#question1\")"
   ]
  },
  {
   "cell_type": "markdown",
   "id": "1d75dc9e",
   "metadata": {},
   "source": [
    "#### Q2:"
   ]
  },
  {
   "cell_type": "markdown",
   "id": "a343d12a",
   "metadata": {},
   "source": [
    "<img src=\"images/map_function.png\" width=\"350\"/>"
   ]
  },
  {
   "cell_type": "code",
   "execution_count": null,
   "id": "7f0ca5da",
   "metadata": {},
   "outputs": [],
   "source": [
    "display_quiz(\"#question2\")"
   ]
  },
  {
   "cell_type": "markdown",
   "id": "ca704dd0",
   "metadata": {},
   "source": [
    "### More advanced examples"
   ]
  },
  {
   "cell_type": "markdown",
   "id": "ddfa162f",
   "metadata": {},
   "source": [
    "In this section we are going to see some more advanced examples involving the `map` function. These examples are not essential to understand the rest of the course. Although, we would recommend you try them as they will help you deepen your knowledge on this topic.\n",
    "\n",
    "***Example A1*** demonstrates how to apply `map` when more than one collection is involved.  \n",
    "***Example A2*** demonstrates how to apply `map` with lambda functions. "
   ]
  },
  {
   "cell_type": "markdown",
   "id": "42e25208",
   "metadata": {},
   "source": [
    "#### Example A1: `map` when more than one collection is involved\n",
    "There are cases where we would like to use `map` with more than one collection of data. This is possible using the following syntax:"
   ]
  },
  {
   "cell_type": "raw",
   "id": "fac19683",
   "metadata": {},
   "source": [
    "map(function, collection_1, collection_2, ....)"
   ]
  },
  {
   "cell_type": "markdown",
   "id": "68da6b4f",
   "metadata": {},
   "source": [
    "To showcase its usefulness, let's suppose that we have a list with the amount of feed that different types of livestock eat per day in a farm:"
   ]
  },
  {
   "cell_type": "code",
   "execution_count": null,
   "id": "722d7a59",
   "metadata": {},
   "outputs": [],
   "source": [
    "# Each index of the list corresponds to the amount of feed that one livestock type eats, so for example:\n",
    "# horses -> 50 kg\n",
    "# sheep -> 30 kg\n",
    "# chickens -> 15 kg\n",
    "# cows -> 100 kg\n",
    "animal_feed = [50, 30, 15, 100]"
   ]
  },
  {
   "cell_type": "markdown",
   "id": "bd1fb282",
   "metadata": {},
   "source": [
    "The animals do not eat the same amounts every day, so we have different lists per day. For example, in the next cell there are lists for Monday, Tuesday and Wednesday:"
   ]
  },
  {
   "cell_type": "code",
   "execution_count": null,
   "id": "65fd9525",
   "metadata": {},
   "outputs": [],
   "source": [
    "feed_Monday = [50, 30, 15, 100]         # horses, sheep, chickens, cows\n",
    "feed_Tuesday = [45, 32, 16, 98]\n",
    "feed_Wednesday = [50, 29, 16, 110]"
   ]
  },
  {
   "cell_type": "markdown",
   "id": "34923215",
   "metadata": {},
   "source": [
    "To calculate the total amount of feed for each livestock type over these three days, we define the `add` function. For example, to calculate the total amount of feed eaten by the horses, we want to add the first value of each of the three lists. To know the total for sheep, we need to add every second element in the list and so on."
   ]
  },
  {
   "cell_type": "code",
   "execution_count": null,
   "id": "b3ec1832",
   "metadata": {},
   "outputs": [],
   "source": [
    "def add(day_1, day_2, day_3):\n",
    "    return day_1 + day_2 + day_3"
   ]
  },
  {
   "cell_type": "markdown",
   "id": "f70b5aed",
   "metadata": {},
   "source": [
    "If we apply `map` to calculate the totals for all livestock types, the function `add` needs to be called with three arguments, one from each of the three lists, until all elements of the lists have been processed:"
   ]
  },
  {
   "cell_type": "code",
   "execution_count": null,
   "id": "1c51db67",
   "metadata": {},
   "outputs": [],
   "source": [
    "result = list(map(add, feed_Monday, feed_Tuesday, feed_Wednesday))\n",
    "print(result)"
   ]
  },
  {
   "cell_type": "markdown",
   "id": "151fc58d",
   "metadata": {},
   "source": [
    "The end result is calculated by first applying function `add` to the first element of each list, then to the second element of each list, and so on. \n",
    "So the calculation happens as follows: $$50+45+50=145$$\n",
    "$$30+32+29=91$$\n",
    "$$15+16+16=47$$\n",
    "$$100+98+110=308$$"
   ]
  },
  {
   "cell_type": "markdown",
   "id": "e1fa3588",
   "metadata": {},
   "source": [
    "#### Example A2: lambda functions"
   ]
  },
  {
   "cell_type": "markdown",
   "id": "1ab94ec5",
   "metadata": {},
   "source": [
    "In many cases we would like to write short functions which are going to be used only once inside a `map`, without having to define a new function. This is possible with <u>lambdas</u>. The function `add` which we defined before could be replaced by the following lambda function: "
   ]
  },
  {
   "cell_type": "code",
   "execution_count": null,
   "id": "d0c168b3",
   "metadata": {},
   "outputs": [],
   "source": [
    "lambda day_1, day_2, day_3: day_1 + day_2 + day_3"
   ]
  },
  {
   "cell_type": "markdown",
   "id": "07083040",
   "metadata": {},
   "source": [
    "The lambda function has no name, and is a short-hand version of our previously used `add` function. This way, we do not have to explicitly define the function before we can include it in `map`. In case we have decided that a function will only be used onece, we might save ourselves some time defining it and create a lambda instead.  \n",
    "\n",
    "A lambda function can be used within `map` as follows:"
   ]
  },
  {
   "cell_type": "code",
   "execution_count": null,
   "id": "983e861a",
   "metadata": {},
   "outputs": [],
   "source": [
    "result = list(map(lambda day_1, day_2, day_3: day_1 + day_2 + day_3, feed_Monday, feed_Tuesday, feed_Wednesday))\n",
    "print(result)"
   ]
  },
  {
   "cell_type": "markdown",
   "id": "06ec93b2",
   "metadata": {},
   "source": [
    "For more material on lambdas refer to *Further reading* section."
   ]
  },
  {
   "cell_type": "markdown",
   "id": "b2fbd679",
   "metadata": {},
   "source": [
    "### Further reading\n",
    "\n",
    "* [The map function](https://en.wikipedia.org/wiki/Map_(higher-order_function))\n",
    "* [Map in Python](https://docs.python.org/3/library/functions.html#map)\n",
    "* [Anonynous functions](https://en.wikipedia.org/wiki/Anonymous_function)\n",
    "* [Lambda functions](https://docs.python.org/3/glossary.html#term-lambda)"
   ]
  }
 ],
 "metadata": {
  "kernelspec": {
   "display_name": "Python 3",
   "language": "python",
   "name": "python3"
  },
  "language_info": {
   "codemirror_mode": {
    "name": "ipython",
    "version": 3
   },
   "file_extension": ".py",
   "mimetype": "text/x-python",
   "name": "python",
   "nbconvert_exporter": "python",
   "pygments_lexer": "ipython3",
   "version": "3.8.8"
  }
 },
 "nbformat": 4,
 "nbformat_minor": 5
}
