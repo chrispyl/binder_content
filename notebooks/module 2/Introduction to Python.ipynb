{
 "cells": [
  {
   "cell_type": "markdown",
   "id": "9221889f",
   "metadata": {},
   "source": [
    "# <u><p style=\"text-align: center;\">Introduction to Python</p></u>\n",
    "\n",
    "### Contents of this notebook\n",
    "*   Variables and values\n",
    "*   Primitive data types (string, integer, float, boolean)\n",
    "*   Conditional execution (if)\n",
    "*   Loops (for)\n",
    "*   Functions (definition and call)\n",
    "*   Structured data type (list)"
   ]
  },
  {
   "cell_type": "markdown",
   "id": "9979657b",
   "metadata": {},
   "source": [
    "### Python\n",
    "The tutorials of this course are implemented in a programming language called Python. If you have programmed before but it was a long time ago, or in another programming language, this introduction will refresh your memory. If you have never programmed before, this introduction may teach you just enough Python to manage the tutorials. If not, we suggest that you learn some more Python before you do our tutorials, see our Further Reading suggestion at the bottom."
   ]
  },
  {
   "cell_type": "markdown",
   "id": "28efb393",
   "metadata": {},
   "source": [
    "#### <u>Variables</u>\n",
    "Variables are small pieces of memory that can store a value. They have a **name**, which makes it easy to retrieve the **value**. We define a variable by **assigning** a value to it, using the = sign. We can assign a new value as often as we want, it will overwrite the previous value. We assign values to variables in the following way (you can also define a few variables of your own). We can use the print statement to see the variable value on screen."
   ]
  },
  {
   "cell_type": "code",
   "execution_count": null,
   "id": "fd3de4c5",
   "metadata": {},
   "outputs": [],
   "source": [
    "value1 = 5\n",
    "value2 = 10\n",
    "print(value1)\n",
    "print(value2)"
   ]
  },
  {
   "cell_type": "markdown",
   "id": "39e828e1",
   "metadata": {},
   "source": [
    "#### <u>Operators</u>\n",
    "We can make calculations by using operators such as +, -, *, and so on. Here are some examples, you can try some of your own as well:"
   ]
  },
  {
   "cell_type": "code",
   "execution_count": null,
   "id": "80507eb0",
   "metadata": {},
   "outputs": [],
   "source": [
    "result = value1 + value2\n",
    "print(result)\n",
    "doubled = result * 2\n",
    "print(doubled)"
   ]
  },
  {
   "cell_type": "markdown",
   "id": "074930d9",
   "metadata": {},
   "source": [
    "#### <u>Primitive data types</u>\n",
    "In variables we can store values of different types like strings, integers, and more. A **string** is a series of characters (in quotes). An **integer** is a number that can be written without its fractional component. A **float** is a decimal number. A **boolean** can hold as value either *True* or *False*. In Python, the value that is given to a variable during assignment determines the type of the variable. The type of the variable determines what operations it accepts. For example, a string variable cannot do multiplication. Here are some examples: "
   ]
  },
  {
   "cell_type": "code",
   "execution_count": null,
   "id": "84498ef7",
   "metadata": {},
   "outputs": [],
   "source": [
    "name = 'Jessica'               # string\n",
    "age = 45                       # integer\n",
    "height = 1.75                  # float\n",
    "has_driving_license = True     # boolean"
   ]
  },
  {
   "cell_type": "markdown",
   "id": "71f28301",
   "metadata": {},
   "source": [
    "#### <u>Control flow</u>\n",
    "Python includes tools that allow to control the execution flow of our program. Normally, a piece of Python code is executed from left to right and from top to bottom. We can change the order of execution by including a **conditional statement (`if`)**: Only execute this (indented) part of code if the condition is true, otherwise skip it. We can also repeat parts of the code by a **control structure (`for` loop)**: repeat this (indented) part of the code as many times as is indicated, and then continue. We will now see examples of both conditional and repetitive execution."
   ]
  },
  {
   "cell_type": "markdown",
   "id": "b48e5fa4",
   "metadata": {},
   "source": [
    "##### Conditional execution\n",
    "We can have a conditional statement (`if`) using the following syntax:"
   ]
  },
  {
   "cell_type": "raw",
   "id": "6960ed53",
   "metadata": {},
   "source": [
    "if conditionA:               # if conditionA is true,\n",
    "    ...                      # perform this code\n",
    "elif conditionB:             # else (conditionA was not true), if conditionB is true, \n",
    "     ..                      # perform this code\n",
    "else:                        # in any other case (conditionB was also not true)\n",
    "    ...                      # perform this code"
   ]
  },
  {
   "cell_type": "markdown",
   "id": "89e3a01b",
   "metadata": {},
   "source": [
    "Each condition, following `if`  or `elif`  (short for \"else if\"), needs to be an expression that is either True or False. `else` does not need a condition, but covers all the remaining cases (for which none of the earlier conditions was true). Below is an example of an `if`-statement; you can change the value for *temperature* to see what the effect is:"
   ]
  },
  {
   "cell_type": "code",
   "execution_count": null,
   "id": "f28638ae",
   "metadata": {},
   "outputs": [],
   "source": [
    "temperature = 25\n",
    "\n",
    "if temperature < 15:\n",
    "    print('Cold')\n",
    "elif temperature < 25:\n",
    "    print('Tepid')\n",
    "else:\n",
    "    print('Hot')"
   ]
  },
  {
   "cell_type": "markdown",
   "id": "2af87977",
   "metadata": {},
   "source": [
    "##### Loops\n",
    "We can repeat the execution of some statements using a `for` loop. The loop is controlled by the first line: an iterating variable is defined that takes on the values of a given range, one after the other. For each of the values, the indented code (the indented loop body) is executed. After each execution of the body, the variable takes on the next value, and repeats the code, until the final value in the range has been reached. Then the loop stops, and the code following the loop (if any) is executed next. "
   ]
  },
  {
   "cell_type": "raw",
   "id": "e454ed00",
   "metadata": {},
   "source": [
    "for variable in range:       # the iterating variable is defined, and also the range of values it should take on. \n",
    "    ...\n",
    "    ..."
   ]
  },
  {
   "cell_type": "markdown",
   "id": "2638e877",
   "metadata": {},
   "source": [
    "For example we can square and print all the elements of a list using a `for` loop:"
   ]
  },
  {
   "cell_type": "code",
   "execution_count": null,
   "id": "c0c47eea",
   "metadata": {},
   "outputs": [],
   "source": [
    "for element in [1, 2, 3, 4, 5]:         # the variable element has first value 1, then 2, then 3, then 4, and finally 5)\n",
    "    print(element**2)                   # for each value, this print statement is executed, resulting in a different number each time."
   ]
  },
  {
   "cell_type": "markdown",
   "id": "99c3ed17",
   "metadata": {},
   "source": [
    "#### <u>Functions</u>\n",
    "We can package several statements into reusable packages called **functions**. A function is defined first, and can be called afterwards. There are lots of standard functions in Python already, such as *print*. A function has zero or more **parameters**, provided between parentheses after its name. The print function takes one argument, which then gets printed on screen. Usually (but not necessarily), functions provide a return value: the function result.\n",
    "\n",
    "When a function has been defined, it needs to be **called** for something to happen. A function is called by its name and by providing the required arguments (check the call to function print in previous examples). When a function has more than one argument, the order of the arguments matters\n",
    "\n",
    "Here is an example of how a function is defined:"
   ]
  },
  {
   "cell_type": "raw",
   "id": "940db86e",
   "metadata": {},
   "source": [
    "def foo(parameter1, parameter2, ...):     # the function name is foo\n",
    "    ...\n",
    "    ...\n",
    "    return ..."
   ]
  },
  {
   "cell_type": "markdown",
   "id": "a0f91d79",
   "metadata": {},
   "source": [
    "Below is an example of a function that adds two numbers: `addition` . The function definition indicates that two arguments are required. The function body calculates the sum of these two arguments. The sum is the return value of the function. Before we can call the function, we need two actual numbers as arguments. We can use the two variables x and y as arguments of the call, which were already defined beforehand. The function returns a result, which is then printed. (In fact, the function result is used as an argument itself for a call to the print function)."
   ]
  },
  {
   "cell_type": "code",
   "execution_count": null,
   "id": "b050c032",
   "metadata": {},
   "outputs": [],
   "source": [
    "x = 5\n",
    "y = 6\n",
    "\n",
    "def addition(number_1, number_2):\n",
    "    result = number_1 + number_2\n",
    "    return result\n",
    "\n",
    "print(addition(x, y))"
   ]
  },
  {
   "cell_type": "markdown",
   "id": "1ae794da",
   "metadata": {},
   "source": [
    "#### <u>Data structures</u>\n",
    "\n",
    "#### Lists\n",
    "\n",
    "There are situations where we need to store and work with multiple values. It would be tedious to have to define a single variable for each value. Instead, we prefer to use a data structure such as a **list**. Lists can can hold multiple values, usually referred to as **elements** of the list. The values are stored sequentially. A list is denoted by brackets like below: "
   ]
  },
  {
   "cell_type": "code",
   "execution_count": null,
   "id": "f4b80995",
   "metadata": {},
   "outputs": [],
   "source": [
    "a_list = []                             # a_list is an 'empty list', a list with nothing in it\n",
    "another_list = [1, 2, 3, 4, 5]          # another_list is a list containing 5 elements\n",
    "print(a_list)\n",
    "print(another_list)"
   ]
  },
  {
   "cell_type": "markdown",
   "id": "dafe64a5",
   "metadata": {},
   "source": [
    "We can refer to the **entire list** by its name (such as in the print statement above). We can also address **individual elements** themselves. To adress an elements of a list we can use its position in the list, also called **index** number. We place the index number of the element we want between square brackets behind the name of the list. The result is a single element, no longer a list. Note that the index starts counting from 0:"
   ]
  },
  {
   "cell_type": "code",
   "execution_count": null,
   "id": "46a210ce",
   "metadata": {},
   "outputs": [],
   "source": [
    "print(another_list[0])              # element zero, which is 1\n",
    "print(another_list[1])              # element 1 is the second element in another_list\n",
    "# and so on\n",
    "print(another_list[5])              # notice that element 5 does not exist so this line will cause an error!"
   ]
  },
  {
   "cell_type": "markdown",
   "id": "0b92b0d3",
   "metadata": {},
   "source": [
    "We can extract a sub-sequence of a list using the **slicing** notation. The result is still a list. With the slicing notation we specify the starting **(inclusive)** and ending **(exclusive)** indices of our sub-sequence using the following syntax:"
   ]
  },
  {
   "cell_type": "raw",
   "id": "c6c8f8f8",
   "metadata": {},
   "source": [
    "another_list[start:end]"
   ]
  },
  {
   "cell_type": "markdown",
   "id": "5381dd2e",
   "metadata": {},
   "source": [
    "Consequently, to extract the elements at indices 1 to 3 from `another_list` we can write:"
   ]
  },
  {
   "cell_type": "code",
   "execution_count": null,
   "id": "fbae689a",
   "metadata": {},
   "outputs": [],
   "source": [
    "result = another_list[1:4]\n",
    "print(result)"
   ]
  },
  {
   "cell_type": "markdown",
   "id": "be1e295c",
   "metadata": {},
   "source": [
    "#### Dictionaries\n",
    "\n",
    "Python has another useful data structure: the dictionary. A dictionary consists of key-value pairs. Like in a real dictionary: you look up a word, and then you find a description connected to that word. Also, as every entry in a real dictionary is unique, every key is unique. However, values can appear multiple times. \n",
    "\n",
    "In Python, a dictionary is defined with a set of curly brackets: { }. Inside, we find key-value pairs as **key : value**. An example of a dictionary is below:"
   ]
  },
  {
   "cell_type": "code",
   "execution_count": null,
   "id": "af7ce7f4",
   "metadata": {},
   "outputs": [],
   "source": [
    "a_dictionary = {'one':1, 'two':2, 'three':3}\n",
    "print(a_dictionary)\n",
    "\n",
    "#ask for the value of key 'one'\n",
    "print(a_dictionary['one'])\n",
    "#ask for the value of key 'two'\n",
    "print(a_dictionary['two'])\n",
    "#ask for the value of key 'three'\n",
    "print(a_dictionary['three'])"
   ]
  },
  {
   "cell_type": "markdown",
   "id": "29612cce",
   "metadata": {},
   "source": [
    "#### <u>Methods</u>\n",
    "Data structures have another advantage: they have certain functions available to them, called **methods**. For example, **lists** have methods to *count*, *sort* or *append* items to the list (and more). A method works just like a function, but it has a different notation: using a full stop. For example, if we had a list called `my_list` and we wanted to sort it, we would say: `my_list.sort()`. If we had defined a function `sort` for it, we would need `my_list` as argument, `sort(my_list)`. But now that `sort` is a method, it's clear that it's called for the datastructure before the full stop: `my_list`, and no argument is given. Of course if any other arguments are needed, they should still be provided. For example, the method `count` needs to know which element should be counted, so that should be provided as an argument. Below are some examples:"
   ]
  },
  {
   "cell_type": "code",
   "execution_count": null,
   "id": "2b285842",
   "metadata": {},
   "outputs": [],
   "source": [
    "my_list = [3, 8, 6, 1, 8, 9, 2]    \n",
    "my_list.sort()                  # sort the elements in the list\n",
    "print(my_list)\n",
    "\n",
    "print(my_list.count(8))         # count the number of occurrences of value 8 in the list"
   ]
  },
  {
   "cell_type": "markdown",
   "id": "38642b76",
   "metadata": {},
   "source": [
    "Using `append` is a common way to **insert** elements to lists. Play around with these examples a bit!"
   ]
  },
  {
   "cell_type": "code",
   "execution_count": null,
   "id": "b7f9e11b",
   "metadata": {},
   "outputs": [],
   "source": [
    "#by using 'append'\n",
    "a_list = [2,5,8]\n",
    "a_list.append(10)               # element 10 is added to the end of a_list\n",
    "print(a_list)\n",
    "\n",
    "#or by concatenating lists\n",
    "a_list = a_list + [10]          # this is equivalent to a_list.append(10); we can only concatenate a list to another list, not to a single element\n",
    "print(a_list)\n",
    "a_list = a_list + [9,8,7]       # the result of a concatenation is one single (longer) list\n",
    "print(a_list)\n",
    "a_list = [-10] + a_list        # we can also add an alement to the beginning of the list\n",
    "print(a_list)"
   ]
  },
  {
   "cell_type": "markdown",
   "id": "a11b9255",
   "metadata": {},
   "source": [
    "### Further reading\n",
    "\n",
    "* [Python website](https://www.python.org/doc/)\n",
    "* [Python tutorial](https://docs.python.org/3/tutorial/index.html)"
   ]
  }
 ],
 "metadata": {
  "kernelspec": {
   "display_name": "Python 3 (ipykernel)",
   "language": "python",
   "name": "python3"
  },
  "language_info": {
   "codemirror_mode": {
    "name": "ipython",
    "version": 3
   },
   "file_extension": ".py",
   "mimetype": "text/x-python",
   "name": "python",
   "nbconvert_exporter": "python",
   "pygments_lexer": "ipython3",
   "version": "3.8.8"
  }
 },
 "nbformat": 4,
 "nbformat_minor": 5
}
