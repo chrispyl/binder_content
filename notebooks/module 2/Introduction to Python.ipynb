{
 "cells": [
  {
   "cell_type": "markdown",
   "id": "9221889f",
   "metadata": {},
   "source": [
    "# <u><p style=\"text-align: center;\">Introduction to Python</p></u>\n",
    "\n",
    "### Learning goals  \n",
    "Students will be able to:   \n",
    "*\tRecognize basic programming operations in Python"
   ]
  },
  {
   "cell_type": "markdown",
   "id": "9979657b",
   "metadata": {},
   "source": [
    "### Python\n",
    "The tutorials of this course are implemented in a programming language called Python. Below we showcase some basic programming operations using Python."
   ]
  },
  {
   "cell_type": "markdown",
   "id": "28efb393",
   "metadata": {},
   "source": [
    "#### <u>Variables</u>\n",
    "A common operation in programming is value assignment. We can assign values to variables for later use in the following way:"
   ]
  },
  {
   "cell_type": "code",
   "execution_count": null,
   "id": "fd3de4c5",
   "metadata": {},
   "outputs": [],
   "source": [
    "value1 = 5\n",
    "value2 = 10"
   ]
  },
  {
   "cell_type": "markdown",
   "id": "074930d9",
   "metadata": {},
   "source": [
    "#### <u>Primitive data types</u>\n",
    "In variables we can store values of different types like strings, integers, and more:"
   ]
  },
  {
   "cell_type": "code",
   "execution_count": null,
   "id": "84498ef7",
   "metadata": {},
   "outputs": [],
   "source": [
    "name = 'Jesica' #string\n",
    "street_number = 1 #integer\n",
    "height = 1.75 #float\n",
    "is_woman = True #boolean"
   ]
  },
  {
   "cell_type": "markdown",
   "id": "71f28301",
   "metadata": {},
   "source": [
    "#### <u>Control flow</u>\n",
    "Python includes tools that allow to change the execution flow of our program. "
   ]
  },
  {
   "cell_type": "markdown",
   "id": "b48e5fa4",
   "metadata": {},
   "source": [
    "##### Conditional execution\n",
    "We can have conditional statements using the following syntax:"
   ]
  },
  {
   "cell_type": "raw",
   "id": "6960ed53",
   "metadata": {},
   "source": [
    "if condition:\n",
    "    ...\n",
    "elif condition:\n",
    "    ...\n",
    "else:\n",
    "    ..."
   ]
  },
  {
   "cell_type": "markdown",
   "id": "89e3a01b",
   "metadata": {},
   "source": [
    "and below is an example of such a statement:"
   ]
  },
  {
   "cell_type": "code",
   "execution_count": null,
   "id": "f28638ae",
   "metadata": {},
   "outputs": [],
   "source": [
    "temperature = 25\n",
    "\n",
    "if temperature < 15:\n",
    "    print('Cold')\n",
    "elif temperature < 25:\n",
    "    print('Tepid')\n",
    "else:\n",
    "    print('Hot')"
   ]
  },
  {
   "cell_type": "markdown",
   "id": "2af87977",
   "metadata": {},
   "source": [
    "##### Loops\n",
    "We can repeat the execution of some statements using a `for` loop:"
   ]
  },
  {
   "cell_type": "raw",
   "id": "e454ed00",
   "metadata": {},
   "source": [
    "for iterating_variable in expression:\n",
    "    ...\n",
    "    ..."
   ]
  },
  {
   "cell_type": "markdown",
   "id": "2638e877",
   "metadata": {},
   "source": [
    "For example we can square and print all the elements of a list using a `for` loop:"
   ]
  },
  {
   "cell_type": "code",
   "execution_count": null,
   "id": "c0c47eea",
   "metadata": {},
   "outputs": [],
   "source": [
    "for element in [1, 2, 3, 4, 5]:\n",
    "    print(element**2)"
   ]
  },
  {
   "cell_type": "markdown",
   "id": "99c3ed17",
   "metadata": {},
   "source": [
    "#### <u>Functions</u>\n",
    "We can package several statements into reusable packages called *functions* in the following way:"
   ]
  },
  {
   "cell_type": "raw",
   "id": "940db86e",
   "metadata": {},
   "source": [
    "def foo(argument1, argument2, ...):\n",
    "    ...\n",
    "    ...\n",
    "    return ..."
   ]
  },
  {
   "cell_type": "markdown",
   "id": "a0f91d79",
   "metadata": {},
   "source": [
    "Below is an example of a function that adds two numbers:"
   ]
  },
  {
   "cell_type": "code",
   "execution_count": null,
   "id": "b050c032",
   "metadata": {},
   "outputs": [],
   "source": [
    "x = 5\n",
    "y = 6\n",
    "\n",
    "def addition(number_1, number_2):\n",
    "    result = number_1 + number_2\n",
    "    return result\n",
    "\n",
    "print(addition(x, y))"
   ]
  },
  {
   "cell_type": "markdown",
   "id": "1ae794da",
   "metadata": {},
   "source": [
    "#### <u>Data structures</u>\n",
    "There are cases where we need to store and work with multiple values. In such cases we can use a data structure like a <u>list</u>.\n",
    "\n",
    "Lists are data structures that store their elements sequentially. They are denoted by brackets like below: "
   ]
  },
  {
   "cell_type": "code",
   "execution_count": null,
   "id": "f4b80995",
   "metadata": {},
   "outputs": [],
   "source": [
    "a_list = []\n",
    "another_list = [1, 2, 3, 4, 5]\n",
    "\n",
    "print(a_list)\n",
    "print(another_list)"
   ]
  },
  {
   "cell_type": "markdown",
   "id": "dafe64a5",
   "metadata": {},
   "source": [
    "To access the elements of a list we can use their index number (starting from 0):"
   ]
  },
  {
   "cell_type": "code",
   "execution_count": null,
   "id": "46a210ce",
   "metadata": {},
   "outputs": [],
   "source": [
    "print(another_list[0])\n",
    "print(another_list[1])\n",
    "print(another_list[2])"
   ]
  },
  {
   "cell_type": "markdown",
   "id": "0b92b0d3",
   "metadata": {},
   "source": [
    "We can extract a sub-sequence of a list using the *slicing* notation. With the slicing notation we specify the start **(inclusive)** and end **(exclusive)** of our sub-sequence using the following syntax:"
   ]
  },
  {
   "cell_type": "raw",
   "id": "c6c8f8f8",
   "metadata": {},
   "source": [
    "my_list[start:end]"
   ]
  },
  {
   "cell_type": "markdown",
   "id": "5381dd2e",
   "metadata": {},
   "source": [
    "Consequently, to extract the elements at indices 1 to 3 from `another_list` we can write:"
   ]
  },
  {
   "cell_type": "code",
   "execution_count": null,
   "id": "fbae689a",
   "metadata": {},
   "outputs": [],
   "source": [
    "result = another_list[1:4]\n",
    "print(result)"
   ]
  },
  {
   "cell_type": "markdown",
   "id": "38642b76",
   "metadata": {},
   "source": [
    "Common ways to insert elements to lists are:"
   ]
  },
  {
   "cell_type": "code",
   "execution_count": null,
   "id": "b7f9e11b",
   "metadata": {},
   "outputs": [],
   "source": [
    "#by using 'append'\n",
    "a_list.append(10)\n",
    "print(a_list)\n",
    "\n",
    "#or by concatenating lists\n",
    "a_list = a_list + [9,8,7]\n",
    "print(a_list)"
   ]
  },
  {
   "cell_type": "markdown",
   "id": "a11b9255",
   "metadata": {},
   "source": [
    "### Further reading\n",
    "\n",
    "* https://www.python.org/doc/\n"
   ]
  }
 ],
 "metadata": {
  "kernelspec": {
   "display_name": "Python 3",
   "language": "python",
   "name": "python3"
  },
  "language_info": {
   "codemirror_mode": {
    "name": "ipython",
    "version": 3
   },
   "file_extension": ".py",
   "mimetype": "text/x-python",
   "name": "python",
   "nbconvert_exporter": "python",
   "pygments_lexer": "ipython3",
   "version": "3.8.8"
  }
 },
 "nbformat": 4,
 "nbformat_minor": 5
}
