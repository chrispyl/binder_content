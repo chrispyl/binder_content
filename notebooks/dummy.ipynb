{
 "cells": [
  {
   "cell_type": "markdown",
   "id": "f1ef16f6",
   "metadata": {},
   "source": [
    "## Start a Spark session"
   ]
  },
  {
   "cell_type": "code",
   "execution_count": null,
   "id": "a737341b",
   "metadata": {},
   "outputs": [],
   "source": [
    "from pyspark.sql import SparkSession\n",
    "import psutil\n",
    "import numpy\n",
    "import pandas as pd\n",
    "import random\n",
    "from pyspark import SparkContext\n",
    "sc = SparkContext.getOrCreate(conf=swan_spark_conf) #Start the spark context\n",
    "\n",
    "#logical_threads = int(psutil.cpu_count(logical=True))\n",
    "#available_memory = int(psutil.virtual_memory().available / pow(10, 9))\n",
    "#driver_memory = 2\n",
    "#memory_per_executor = int((available_memory - driver_memory ) / logical_threads * 1000)\n",
    "\n",
    "#spark = SparkSession.builder.master('local[' + str(logical_threads) + ']')\\\n",
    "#        .config('spark.driver.memory', str(driver_memory) + 'g')\\\n",
    "#        .config('spark.executor.memory', str(memory_per_executor) + 'm')\\\n",
    "#        .getOrCreate()"
   ]
  },
  {
   "cell_type": "markdown",
   "id": "c3a18e8a",
   "metadata": {},
   "source": [
    "## Test Spark"
   ]
  },
  {
   "cell_type": "code",
   "execution_count": null,
   "id": "ce198ffb",
   "metadata": {},
   "outputs": [],
   "source": [
    "#sc = spark.sparkContext\n",
    "num_samples = 1000000\n",
    "def inside(p):     \n",
    "  x, y = random.random(), random.random()\n",
    "  return x*x + y*y < 1\n",
    "count = sc.parallelize(range(0, num_samples)).filter(inside).count()\n",
    "pi = 4 * count / num_samples\n",
    "print(pi)"
   ]
  },
  {
   "cell_type": "markdown",
   "id": "d8493301",
   "metadata": {},
   "source": [
    "## Stop spark context"
   ]
  },
  {
   "cell_type": "code",
   "execution_count": null,
   "id": "5cf29971",
   "metadata": {},
   "outputs": [],
   "source": [
    "sc.stop()"
   ]
  },
  {
   "cell_type": "markdown",
   "id": "f4b044a9",
   "metadata": {},
   "source": [
    "## Test read from dataset"
   ]
  },
  {
   "cell_type": "code",
   "execution_count": null,
   "id": "e67e6a7a",
   "metadata": {},
   "outputs": [],
   "source": [
    "df = pd.read_csv('/home/jovyan/datasets/dataset_1.csv')\n",
    "df"
   ]
  },
  {
   "cell_type": "markdown",
   "id": "9b6f9483",
   "metadata": {},
   "source": [
    "### Render Spark UI"
   ]
  },
  {
   "cell_type": "code",
   "execution_count": null,
   "id": "e220ffb3",
   "metadata": {},
   "outputs": [],
   "source": [
    "import socket\n",
    "\n",
    "print(spark.sparkContext.uiWebUrl)\n",
    "print(socket.gethostbyname(socket.gethostname()))\n",
    "print(socket.getfqdn())\n",
    "print(socket.gethostbyname_ex(socket.gethostname())[-1]) #ipv4 addresses\n",
    "!hostname -i"
   ]
  },
  {
   "cell_type": "code",
   "execution_count": null,
   "id": "51751624",
   "metadata": {},
   "outputs": [],
   "source": [
    "from notebook import notebookapp\n",
    "servers = list(notebookapp.list_running_servers())\n",
    "print(servers)"
   ]
  },
  {
   "cell_type": "code",
   "execution_count": null,
   "id": "f90c22d9",
   "metadata": {},
   "outputs": [],
   "source": [
    "from IPython import display\n",
    "display.IFrame(src=spark.sparkContext.uiWebUrl, width=990, height=900)"
   ]
  }
 ],
 "metadata": {
  "kernelspec": {
   "display_name": "Python 3",
   "language": "python",
   "name": "python3"
  },
  "language_info": {
   "codemirror_mode": {
    "name": "ipython",
    "version": 3
   },
   "file_extension": ".py",
   "mimetype": "text/x-python",
   "name": "python",
   "nbconvert_exporter": "python",
   "pygments_lexer": "ipython3",
   "version": "3.8.8"
  }
 },
 "nbformat": 4,
 "nbformat_minor": 5
}
